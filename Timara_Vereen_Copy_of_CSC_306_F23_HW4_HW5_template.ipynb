{
  "cells": [
    {
      "cell_type": "markdown",
      "metadata": {
        "id": "view-in-github",
        "colab_type": "text"
      },
      "source": [
        "<a href=\"https://colab.research.google.com/github/Timara-Vereen/CSC-306/blob/main/Timara_Vereen_Copy_of_CSC_306_F23_HW4_HW5_template.ipynb\" target=\"_parent\"><img src=\"https://colab.research.google.com/assets/colab-badge.svg\" alt=\"Open In Colab\"/></a>"
      ]
    },
    {
      "cell_type": "markdown",
      "metadata": {
        "tags": [],
        "cell_id": "781e7f7c31af48d0b7a4837e1114c01b",
        "deepnote_cell_height": 176.390625,
        "deepnote_cell_type": "markdown",
        "id": "swTGzxcKGgQW"
      },
      "source": [
        "# HW4 & HW5 Drawing DNA template\n",
        "\n",
        "## Team member names here...\n",
        "Everyone will need to submit a colab notebook"
      ]
    },
    {
      "cell_type": "markdown",
      "metadata": {
        "tags": [],
        "cell_id": "64e06afcc82f47699f7f0035c02a18ef",
        "deepnote_cell_height": 108.390625,
        "deepnote_cell_type": "markdown",
        "id": "D0BF9k9tGgQZ"
      },
      "source": [
        "## Remember, step one is to duplicate this project!\n",
        "And, make sure you set the sharing settings to anyone with a link can **Comment**!"
      ]
    },
    {
      "cell_type": "markdown",
      "metadata": {
        "tags": [],
        "cell_id": "6ba83ca86c364c298bc313604fc37d10",
        "deepnote_cell_type": "markdown",
        "id": "phxRVbr0GgQZ"
      },
      "source": [
        "### HW4:\n",
        "Pseudocode and attempt to draw (at least part) of the DNA string with some code\n",
        "### HW5:\n",
        "Complete drawing of double stranded DNA"
      ]
    },
    {
      "cell_type": "code",
      "source": [
        "#Timara Vereen"
      ],
      "metadata": {
        "id": "ZH75Ol4JuPKL"
      },
      "execution_count": null,
      "outputs": []
    },
    {
      "cell_type": "markdown",
      "metadata": {
        "tags": [],
        "cell_id": "11e2625fb7f34c7392d55fe7c5c7363b",
        "is_collapsed": false,
        "formattedRanges": [],
        "deepnote_cell_type": "text-cell-h3",
        "id": "hbCaRyjvGgQZ"
      },
      "source": [
        "### Screenshot of assignment document:"
      ]
    },
    {
      "cell_type": "code",
      "source": [
        "%%html\n",
        "<iframe src=\"https://drive.google.com/file/d/1ejzpYwrNkgmuHkbXs6Up7hG6fZ_GJCjP/preview\" width=\"640\" height=\"480\" allow=\"autoplay\"></iframe>"
      ],
      "metadata": {
        "colab": {
          "base_uri": "https://localhost:8080/",
          "height": 505
        },
        "id": "FX4M4_9IM1az",
        "outputId": "009ee1f5-4a67-4b69-8085-dabf9d5fae30"
      },
      "execution_count": null,
      "outputs": [
        {
          "output_type": "display_data",
          "data": {
            "text/plain": [
              "<IPython.core.display.HTML object>"
            ],
            "text/html": [
              "<iframe src=\"https://drive.google.com/file/d/1ejzpYwrNkgmuHkbXs6Up7hG6fZ_GJCjP/preview\" width=\"640\" height=\"480\" allow=\"autoplay\"></iframe>\n"
            ]
          },
          "metadata": {}
        }
      ]
    },
    {
      "cell_type": "markdown",
      "metadata": {
        "tags": [],
        "cell_id": "766cf637e4264f8d842095e5af0d433c",
        "deepnote_cell_height": 1198.578125,
        "deepnote_cell_type": "markdown",
        "id": "AtBqdABZGgQa"
      },
      "source": [
        "If the image above isn't working, you can access it [here](https://drive.google.com/file/d/1ejzpYwrNkgmuHkbXs6Up7hG6fZ_GJCjP/view?usp=sharing). It is the word file that is also on Canvas."
      ]
    },
    {
      "cell_type": "code",
      "source": [
        "# Download the file from GitHub\n",
        "\n",
        "!pip install drawSvg==1.2.2\n",
        "!wget https://raw.githubusercontent.com/raymondWWW/CSC306_Fall2023/master/easydraw.py -O easydraw.py\n"
      ],
      "metadata": {
        "id": "QjOEpbELKpXA",
        "colab": {
          "base_uri": "https://localhost:8080/"
        },
        "outputId": "a250bfe1-a6fb-44ef-8ffe-faedf2b6c09a"
      },
      "execution_count": null,
      "outputs": [
        {
          "output_type": "stream",
          "name": "stdout",
          "text": [
            "Collecting drawSvg==1.2.2\n",
            "  Downloading drawSvg-1.2.2.tar.gz (17 kB)\n",
            "  Preparing metadata (setup.py) ... \u001b[?25l\u001b[?25hdone\n",
            "Collecting cairoSVG (from drawSvg==1.2.2)\n",
            "  Downloading CairoSVG-2.7.1-py3-none-any.whl (43 kB)\n",
            "\u001b[2K     \u001b[90m━━━━━━━━━━━━━━━━━━━━━━━━━━━━━━━━━━━━━━━━\u001b[0m \u001b[32m43.2/43.2 kB\u001b[0m \u001b[31m1.3 MB/s\u001b[0m eta \u001b[36m0:00:00\u001b[0m\n",
            "\u001b[?25hRequirement already satisfied: numpy in /usr/local/lib/python3.10/dist-packages (from drawSvg==1.2.2) (1.23.5)\n",
            "Requirement already satisfied: imageio in /usr/local/lib/python3.10/dist-packages (from drawSvg==1.2.2) (2.31.3)\n",
            "Collecting cairocffi (from cairoSVG->drawSvg==1.2.2)\n",
            "  Downloading cairocffi-1.6.1-py3-none-any.whl (75 kB)\n",
            "\u001b[2K     \u001b[90m━━━━━━━━━━━━━━━━━━━━━━━━━━━━━━━━━━━━━━━━\u001b[0m \u001b[32m75.1/75.1 kB\u001b[0m \u001b[31m4.1 MB/s\u001b[0m eta \u001b[36m0:00:00\u001b[0m\n",
            "\u001b[?25hCollecting cssselect2 (from cairoSVG->drawSvg==1.2.2)\n",
            "  Downloading cssselect2-0.7.0-py3-none-any.whl (15 kB)\n",
            "Requirement already satisfied: defusedxml in /usr/local/lib/python3.10/dist-packages (from cairoSVG->drawSvg==1.2.2) (0.7.1)\n",
            "Requirement already satisfied: pillow in /usr/local/lib/python3.10/dist-packages (from cairoSVG->drawSvg==1.2.2) (9.4.0)\n",
            "Requirement already satisfied: tinycss2 in /usr/local/lib/python3.10/dist-packages (from cairoSVG->drawSvg==1.2.2) (1.2.1)\n",
            "Requirement already satisfied: cffi>=1.1.0 in /usr/local/lib/python3.10/dist-packages (from cairocffi->cairoSVG->drawSvg==1.2.2) (1.15.1)\n",
            "Requirement already satisfied: webencodings in /usr/local/lib/python3.10/dist-packages (from cssselect2->cairoSVG->drawSvg==1.2.2) (0.5.1)\n",
            "Requirement already satisfied: pycparser in /usr/local/lib/python3.10/dist-packages (from cffi>=1.1.0->cairocffi->cairoSVG->drawSvg==1.2.2) (2.21)\n",
            "Building wheels for collected packages: drawSvg\n",
            "  Building wheel for drawSvg (setup.py) ... \u001b[?25l\u001b[?25hdone\n",
            "  Created wheel for drawSvg: filename=drawSvg-1.2.2-py3-none-any.whl size=19866 sha256=5a1ff2081dcb8a4e69b436ef23c656a128546a9a34f279e6ac90d2757a92cc1c\n",
            "  Stored in directory: /root/.cache/pip/wheels/c5/da/19/b755935c7345bf2a8cc98c2ebd8ffab88091c98f07d8bc1b0a\n",
            "Successfully built drawSvg\n",
            "Installing collected packages: cssselect2, cairocffi, cairoSVG, drawSvg\n",
            "Successfully installed cairoSVG-2.7.1 cairocffi-1.6.1 cssselect2-0.7.0 drawSvg-1.2.2\n",
            "--2023-09-28 18:47:15--  https://raw.githubusercontent.com/raymondWWW/CSC306_Fall2023/master/easydraw.py\n",
            "Resolving raw.githubusercontent.com (raw.githubusercontent.com)... 185.199.108.133, 185.199.109.133, 185.199.110.133, ...\n",
            "Connecting to raw.githubusercontent.com (raw.githubusercontent.com)|185.199.108.133|:443... connected.\n",
            "HTTP request sent, awaiting response... 200 OK\n",
            "Length: 1570 (1.5K) [text/plain]\n",
            "Saving to: ‘easydraw.py’\n",
            "\n",
            "easydraw.py         100%[===================>]   1.53K  --.-KB/s    in 0s      \n",
            "\n",
            "2023-09-28 18:47:15 (13.1 MB/s) - ‘easydraw.py’ saved [1570/1570]\n",
            "\n"
          ]
        }
      ]
    },
    {
      "cell_type": "code",
      "metadata": {
        "tags": [],
        "cell_id": "cd5f587fc098409fb1ffc25abda9c0b9",
        "source_hash": "4bb8b7b2",
        "output_cleared": true,
        "execution_start": 1631141438911,
        "execution_millis": 2,
        "deepnote_to_be_reexecuted": false,
        "deepnote_cell_type": "code",
        "id": "pejo-TynGgQb"
      },
      "source": [
        "from easydraw import *"
      ],
      "execution_count": null,
      "outputs": []
    },
    {
      "cell_type": "markdown",
      "metadata": {
        "tags": [],
        "cell_id": "ee153500da2a46578825a3d801919b73",
        "deepnote_cell_height": 136.78125,
        "deepnote_cell_type": "markdown",
        "id": "hVFrD5vfGgQc"
      },
      "source": [
        "### Here are some of the drawing functions you will want to use:\n",
        "\n",
        "Text(text, font size, x position, y position)\n",
        "\n",
        "Rectangle(x position, y position, width, height)"
      ]
    },
    {
      "cell_type": "code",
      "metadata": {
        "tags": [],
        "cell_id": "15e3778bdd17496db45aee561642a5ef",
        "source_hash": "1e6b36e2",
        "output_cleared": true,
        "execution_start": 1631141439445,
        "execution_millis": 8,
        "deepnote_to_be_reexecuted": false,
        "deepnote_cell_type": "code",
        "id": "26LfMd_EGgQd",
        "colab": {
          "base_uri": "https://localhost:8080/",
          "height": 1000
        },
        "outputId": "2ed5f763-eb5b-4731-cb10-a6767b17892a"
      },
      "source": [
        "from binascii import b2a_qp\n",
        "# DNA string - 28 bases long\n",
        "# your code only has to work for a length 28 string\n",
        "# BUT if you want a challenge, try to make it work for\n",
        "# a variety of lengths (maybe 5-50)\n",
        "\n",
        "# setting up the drawing canvas\n",
        "easydraw(700, 700)\n",
        "\n",
        "# your code to draw the DNA goes here\n",
        "#Text(text, font size, x position, y position)\n",
        "\n",
        "#Rectangle(x position, y position, width, height)\n",
        "\n",
        "dna=str('ATCACGACGTGACGGATCGAGCAGTACG') # start with OG strand and save as a variable in coding environment\n",
        "Rectangle(0,67,1000,12, fill='black') #This code provides the backbone strands for the DNA sequence; filled the backbones as color 'black'\n",
        "Rectangle(0,3,1000,12, fill='black') #\"                                                                                                  \"\n",
        "count =0 #start the count for spacing within strand and between NA = need this so the NAs won't overlap\n",
        "for i in dna: #start with iterating the individual NA in the DNA sequence the for loop #I think that there will be a for loop within a while loop??\n",
        "  if i=='A': #This if/elif/else will print the bps for the strand building\n",
        "\n",
        "    Rectangle(count,55, 10, 12, fill='blue') #print/draws rectangle that corresponds with NA ''A and will specify that A will be associated with the color blue\n",
        "    print(Text('A', 12, count, 58))          #also print 'A' on rectangle\n",
        "    Rectangle(count,15, 10, 12, fill='yellow') #for this rectangle if when code is ran, if detect an 'A', it will also print/draw the complement bp (e.g. A to T) => T will be associated with color yellow\n",
        "    print(Text('T', 12, count, 15))             #also print 'T' on that complementary rectangle\n",
        "  if i=='T':                                    # if code detects a T within the dna strand\n",
        "\n",
        "    Rectangle(count,55, 10, 12, fill='yellow') #print/draws rectangle that corresponds with NA 'T' and will specify that T will be associated with the color yellow\n",
        "    print(Text('T', 12, count, 58))            # also prints 'T' on that rectangle\n",
        "    Rectangle(count,15, 10, 12, fill='blue')   # #for this rectangle if when code is ran, if detect an 'T', it will also print/draw the complement bp (e.g. T to A) => A will be associated with color blue\n",
        "    print(Text('A', 12, count, 15))            # #also print 'A' on that complementary rectangle\n",
        "  if i=='C':                                   # if code detects a 'C' within the dna strand\n",
        "\n",
        "    Rectangle(count,55, 10, 12, fill='red')    #print/draws rectangle that corresponds with NA 'C' and will specify that C will be associated with the color red\n",
        "    print(Text('C', 12, count, 58))            # also print 'C' on the drawn rectangle\n",
        "    Rectangle(count,15, 10, 12, fill='green')  # for this rectangle if the code is ran, if detect an 'C', it will also print/draw the complement bp (e.g. C to G) => G will be associated with the color green\n",
        "    print(Text('G', 12, count, 15))            # also print 'G' on the complementary dna rectangle\n",
        "  if i =='GG':                                 # if code detects a 'GG' within the dna strand\n",
        "    g_count = 0                                # ran into an issue with the 'GG's in thw sequence so had to make one subset of code for when code runs into GGs... so if detect 'GG's.. have its own counter\n",
        "    g_count +=8                                #within this count have 8 spaces between the drawn rectangles along with the printed Text\n",
        "    Rectangle(g_count,55, 10, 12, fill='green') #print/draws rectangle that corresponds with NA 'GG' and will specify that GG will be associated with the color green\n",
        "\n",
        "    print(Text('G', 12, g_count, 58))          # also print 'G' on the drawn rectangles\n",
        "    Rectangle(g_count,15, 10, 12, fill='red')  # for this rectangle if the code is ran, if detect an 'GG', it will also print/draw the complement bp (e.g. G to C) => C will be associated with the color color red\n",
        "    print(Text('C', 12, g_count, 15))          #also print 'C' on the complementary dna rectangle **so overall, if have double GGs within the sequence will have printed bps of Gs along with its complementary bps (Cs)\n",
        "  else:                                        # This is just when run into regular singular G's within the dna sequence\n",
        "\n",
        "    Rectangle(count+50,55, 10, 12, fill='green') #print/draws rectangle that corresponds with NA 'G' and will specify that C will be associated with the color green\n",
        "    print(Text('G', 12, count+50, 58))           #also print 'G' on the drawn rectangle\n",
        "    Rectangle(count+50,15, 10, 12, fill='red')   #for this rectangle if the code is ran, if detect an 'G', it will also print/draw the complement bp (e.g. G to C) => C will be associated with the color red\n",
        "    print(Text('C', 12, count+50, 15))           # also print 'C' on the complementary dna bp rectangle\n",
        "\n",
        "  count += 25                                   # this count corresponds to the count=0 and is nested within these if/elif/else statements and illustrates that spacing between the printed bps\n",
        "\n",
        "\n",
        "show_me_my_drawing()                            # this will print the completed structure of OG dna strand and the complementary\n",
        "\n",
        "#how to make this repeat and loop through??? > got it .... use a for loop :)\n"
      ],
      "execution_count": null,
      "outputs": [
        {
          "output_type": "stream",
          "name": "stdout",
          "text": [
            "None\n",
            "None\n",
            "None\n",
            "None\n",
            "None\n",
            "None\n",
            "None\n",
            "None\n",
            "None\n",
            "None\n",
            "None\n",
            "None\n",
            "None\n",
            "None\n",
            "None\n",
            "None\n",
            "None\n",
            "None\n",
            "None\n",
            "None\n",
            "None\n",
            "None\n",
            "None\n",
            "None\n",
            "None\n",
            "None\n",
            "None\n",
            "None\n",
            "None\n",
            "None\n",
            "None\n",
            "None\n",
            "None\n",
            "None\n",
            "None\n",
            "None\n",
            "None\n",
            "None\n",
            "None\n",
            "None\n",
            "None\n",
            "None\n",
            "None\n",
            "None\n",
            "None\n",
            "None\n",
            "None\n",
            "None\n",
            "None\n",
            "None\n",
            "None\n",
            "None\n",
            "None\n",
            "None\n",
            "None\n",
            "None\n",
            "None\n",
            "None\n",
            "None\n",
            "None\n",
            "None\n",
            "None\n",
            "None\n",
            "None\n",
            "None\n",
            "None\n",
            "None\n",
            "None\n",
            "None\n",
            "None\n",
            "None\n",
            "None\n",
            "None\n",
            "None\n",
            "None\n",
            "None\n",
            "None\n",
            "None\n",
            "None\n",
            "None\n",
            "None\n",
            "None\n",
            "None\n",
            "None\n",
            "None\n",
            "None\n",
            "None\n",
            "None\n",
            "None\n",
            "None\n",
            "None\n",
            "None\n",
            "None\n",
            "None\n"
          ]
        },
        {
          "output_type": "execute_result",
          "data": {
            "text/plain": [
              "<drawSvg.drawing.Drawing at 0x7f8013e3f130>"
            ],
            "image/svg+xml": "<?xml version=\"1.0\" encoding=\"UTF-8\"?>\n<svg xmlns=\"http://www.w3.org/2000/svg\" xmlns:xlink=\"http://www.w3.org/1999/xlink\"\n     width=\"700\" height=\"700\" viewBox=\"0 -700 700 700\">\n<defs>\n</defs>\n<rect x=\"0\" y=\"-79\" width=\"1000\" height=\"12\" fill=\"black\" />\n<rect x=\"0\" y=\"-15\" width=\"1000\" height=\"12\" fill=\"black\" />\n<rect x=\"0\" y=\"-67\" width=\"10\" height=\"12\" fill=\"blue\" />\n<text x=\"0\" y=\"-58\" font-size=\"12\">A</text>\n<rect x=\"0\" y=\"-27\" width=\"10\" height=\"12\" fill=\"yellow\" />\n<text x=\"0\" y=\"-15\" font-size=\"12\">T</text>\n<rect x=\"50\" y=\"-67\" width=\"10\" height=\"12\" fill=\"green\" />\n<text x=\"50\" y=\"-58\" font-size=\"12\">G</text>\n<rect x=\"50\" y=\"-27\" width=\"10\" height=\"12\" fill=\"red\" />\n<text x=\"50\" y=\"-15\" font-size=\"12\">C</text>\n<rect x=\"25\" y=\"-67\" width=\"10\" height=\"12\" fill=\"yellow\" />\n<text x=\"25\" y=\"-58\" font-size=\"12\">T</text>\n<rect x=\"25\" y=\"-27\" width=\"10\" height=\"12\" fill=\"blue\" />\n<text x=\"25\" y=\"-15\" font-size=\"12\">A</text>\n<rect x=\"75\" y=\"-67\" width=\"10\" height=\"12\" fill=\"green\" />\n<text x=\"75\" y=\"-58\" font-size=\"12\">G</text>\n<rect x=\"75\" y=\"-27\" width=\"10\" height=\"12\" fill=\"red\" />\n<text x=\"75\" y=\"-15\" font-size=\"12\">C</text>\n<rect x=\"50\" y=\"-67\" width=\"10\" height=\"12\" fill=\"red\" />\n<text x=\"50\" y=\"-58\" font-size=\"12\">C</text>\n<rect x=\"50\" y=\"-27\" width=\"10\" height=\"12\" fill=\"green\" />\n<text x=\"50\" y=\"-15\" font-size=\"12\">G</text>\n<rect x=\"100\" y=\"-67\" width=\"10\" height=\"12\" fill=\"green\" />\n<text x=\"100\" y=\"-58\" font-size=\"12\">G</text>\n<rect x=\"100\" y=\"-27\" width=\"10\" height=\"12\" fill=\"red\" />\n<text x=\"100\" y=\"-15\" font-size=\"12\">C</text>\n<rect x=\"75\" y=\"-67\" width=\"10\" height=\"12\" fill=\"blue\" />\n<text x=\"75\" y=\"-58\" font-size=\"12\">A</text>\n<rect x=\"75\" y=\"-27\" width=\"10\" height=\"12\" fill=\"yellow\" />\n<text x=\"75\" y=\"-15\" font-size=\"12\">T</text>\n<rect x=\"125\" y=\"-67\" width=\"10\" height=\"12\" fill=\"green\" />\n<text x=\"125\" y=\"-58\" font-size=\"12\">G</text>\n<rect x=\"125\" y=\"-27\" width=\"10\" height=\"12\" fill=\"red\" />\n<text x=\"125\" y=\"-15\" font-size=\"12\">C</text>\n<rect x=\"100\" y=\"-67\" width=\"10\" height=\"12\" fill=\"red\" />\n<text x=\"100\" y=\"-58\" font-size=\"12\">C</text>\n<rect x=\"100\" y=\"-27\" width=\"10\" height=\"12\" fill=\"green\" />\n<text x=\"100\" y=\"-15\" font-size=\"12\">G</text>\n<rect x=\"150\" y=\"-67\" width=\"10\" height=\"12\" fill=\"green\" />\n<text x=\"150\" y=\"-58\" font-size=\"12\">G</text>\n<rect x=\"150\" y=\"-27\" width=\"10\" height=\"12\" fill=\"red\" />\n<text x=\"150\" y=\"-15\" font-size=\"12\">C</text>\n<rect x=\"175\" y=\"-67\" width=\"10\" height=\"12\" fill=\"green\" />\n<text x=\"175\" y=\"-58\" font-size=\"12\">G</text>\n<rect x=\"175\" y=\"-27\" width=\"10\" height=\"12\" fill=\"red\" />\n<text x=\"175\" y=\"-15\" font-size=\"12\">C</text>\n<rect x=\"150\" y=\"-67\" width=\"10\" height=\"12\" fill=\"blue\" />\n<text x=\"150\" y=\"-58\" font-size=\"12\">A</text>\n<rect x=\"150\" y=\"-27\" width=\"10\" height=\"12\" fill=\"yellow\" />\n<text x=\"150\" y=\"-15\" font-size=\"12\">T</text>\n<rect x=\"200\" y=\"-67\" width=\"10\" height=\"12\" fill=\"green\" />\n<text x=\"200\" y=\"-58\" font-size=\"12\">G</text>\n<rect x=\"200\" y=\"-27\" width=\"10\" height=\"12\" fill=\"red\" />\n<text x=\"200\" y=\"-15\" font-size=\"12\">C</text>\n<rect x=\"175\" y=\"-67\" width=\"10\" height=\"12\" fill=\"red\" />\n<text x=\"175\" y=\"-58\" font-size=\"12\">C</text>\n<rect x=\"175\" y=\"-27\" width=\"10\" height=\"12\" fill=\"green\" />\n<text x=\"175\" y=\"-15\" font-size=\"12\">G</text>\n<rect x=\"225\" y=\"-67\" width=\"10\" height=\"12\" fill=\"green\" />\n<text x=\"225\" y=\"-58\" font-size=\"12\">G</text>\n<rect x=\"225\" y=\"-27\" width=\"10\" height=\"12\" fill=\"red\" />\n<text x=\"225\" y=\"-15\" font-size=\"12\">C</text>\n<rect x=\"250\" y=\"-67\" width=\"10\" height=\"12\" fill=\"green\" />\n<text x=\"250\" y=\"-58\" font-size=\"12\">G</text>\n<rect x=\"250\" y=\"-27\" width=\"10\" height=\"12\" fill=\"red\" />\n<text x=\"250\" y=\"-15\" font-size=\"12\">C</text>\n<rect x=\"225\" y=\"-67\" width=\"10\" height=\"12\" fill=\"yellow\" />\n<text x=\"225\" y=\"-58\" font-size=\"12\">T</text>\n<rect x=\"225\" y=\"-27\" width=\"10\" height=\"12\" fill=\"blue\" />\n<text x=\"225\" y=\"-15\" font-size=\"12\">A</text>\n<rect x=\"275\" y=\"-67\" width=\"10\" height=\"12\" fill=\"green\" />\n<text x=\"275\" y=\"-58\" font-size=\"12\">G</text>\n<rect x=\"275\" y=\"-27\" width=\"10\" height=\"12\" fill=\"red\" />\n<text x=\"275\" y=\"-15\" font-size=\"12\">C</text>\n<rect x=\"300\" y=\"-67\" width=\"10\" height=\"12\" fill=\"green\" />\n<text x=\"300\" y=\"-58\" font-size=\"12\">G</text>\n<rect x=\"300\" y=\"-27\" width=\"10\" height=\"12\" fill=\"red\" />\n<text x=\"300\" y=\"-15\" font-size=\"12\">C</text>\n<rect x=\"275\" y=\"-67\" width=\"10\" height=\"12\" fill=\"blue\" />\n<text x=\"275\" y=\"-58\" font-size=\"12\">A</text>\n<rect x=\"275\" y=\"-27\" width=\"10\" height=\"12\" fill=\"yellow\" />\n<text x=\"275\" y=\"-15\" font-size=\"12\">T</text>\n<rect x=\"325\" y=\"-67\" width=\"10\" height=\"12\" fill=\"green\" />\n<text x=\"325\" y=\"-58\" font-size=\"12\">G</text>\n<rect x=\"325\" y=\"-27\" width=\"10\" height=\"12\" fill=\"red\" />\n<text x=\"325\" y=\"-15\" font-size=\"12\">C</text>\n<rect x=\"300\" y=\"-67\" width=\"10\" height=\"12\" fill=\"red\" />\n<text x=\"300\" y=\"-58\" font-size=\"12\">C</text>\n<rect x=\"300\" y=\"-27\" width=\"10\" height=\"12\" fill=\"green\" />\n<text x=\"300\" y=\"-15\" font-size=\"12\">G</text>\n<rect x=\"350\" y=\"-67\" width=\"10\" height=\"12\" fill=\"green\" />\n<text x=\"350\" y=\"-58\" font-size=\"12\">G</text>\n<rect x=\"350\" y=\"-27\" width=\"10\" height=\"12\" fill=\"red\" />\n<text x=\"350\" y=\"-15\" font-size=\"12\">C</text>\n<rect x=\"375\" y=\"-67\" width=\"10\" height=\"12\" fill=\"green\" />\n<text x=\"375\" y=\"-58\" font-size=\"12\">G</text>\n<rect x=\"375\" y=\"-27\" width=\"10\" height=\"12\" fill=\"red\" />\n<text x=\"375\" y=\"-15\" font-size=\"12\">C</text>\n<rect x=\"400\" y=\"-67\" width=\"10\" height=\"12\" fill=\"green\" />\n<text x=\"400\" y=\"-58\" font-size=\"12\">G</text>\n<rect x=\"400\" y=\"-27\" width=\"10\" height=\"12\" fill=\"red\" />\n<text x=\"400\" y=\"-15\" font-size=\"12\">C</text>\n<rect x=\"375\" y=\"-67\" width=\"10\" height=\"12\" fill=\"blue\" />\n<text x=\"375\" y=\"-58\" font-size=\"12\">A</text>\n<rect x=\"375\" y=\"-27\" width=\"10\" height=\"12\" fill=\"yellow\" />\n<text x=\"375\" y=\"-15\" font-size=\"12\">T</text>\n<rect x=\"425\" y=\"-67\" width=\"10\" height=\"12\" fill=\"green\" />\n<text x=\"425\" y=\"-58\" font-size=\"12\">G</text>\n<rect x=\"425\" y=\"-27\" width=\"10\" height=\"12\" fill=\"red\" />\n<text x=\"425\" y=\"-15\" font-size=\"12\">C</text>\n<rect x=\"400\" y=\"-67\" width=\"10\" height=\"12\" fill=\"yellow\" />\n<text x=\"400\" y=\"-58\" font-size=\"12\">T</text>\n<rect x=\"400\" y=\"-27\" width=\"10\" height=\"12\" fill=\"blue\" />\n<text x=\"400\" y=\"-15\" font-size=\"12\">A</text>\n<rect x=\"450\" y=\"-67\" width=\"10\" height=\"12\" fill=\"green\" />\n<text x=\"450\" y=\"-58\" font-size=\"12\">G</text>\n<rect x=\"450\" y=\"-27\" width=\"10\" height=\"12\" fill=\"red\" />\n<text x=\"450\" y=\"-15\" font-size=\"12\">C</text>\n<rect x=\"425\" y=\"-67\" width=\"10\" height=\"12\" fill=\"red\" />\n<text x=\"425\" y=\"-58\" font-size=\"12\">C</text>\n<rect x=\"425\" y=\"-27\" width=\"10\" height=\"12\" fill=\"green\" />\n<text x=\"425\" y=\"-15\" font-size=\"12\">G</text>\n<rect x=\"475\" y=\"-67\" width=\"10\" height=\"12\" fill=\"green\" />\n<text x=\"475\" y=\"-58\" font-size=\"12\">G</text>\n<rect x=\"475\" y=\"-27\" width=\"10\" height=\"12\" fill=\"red\" />\n<text x=\"475\" y=\"-15\" font-size=\"12\">C</text>\n<rect x=\"500\" y=\"-67\" width=\"10\" height=\"12\" fill=\"green\" />\n<text x=\"500\" y=\"-58\" font-size=\"12\">G</text>\n<rect x=\"500\" y=\"-27\" width=\"10\" height=\"12\" fill=\"red\" />\n<text x=\"500\" y=\"-15\" font-size=\"12\">C</text>\n<rect x=\"475\" y=\"-67\" width=\"10\" height=\"12\" fill=\"blue\" />\n<text x=\"475\" y=\"-58\" font-size=\"12\">A</text>\n<rect x=\"475\" y=\"-27\" width=\"10\" height=\"12\" fill=\"yellow\" />\n<text x=\"475\" y=\"-15\" font-size=\"12\">T</text>\n<rect x=\"525\" y=\"-67\" width=\"10\" height=\"12\" fill=\"green\" />\n<text x=\"525\" y=\"-58\" font-size=\"12\">G</text>\n<rect x=\"525\" y=\"-27\" width=\"10\" height=\"12\" fill=\"red\" />\n<text x=\"525\" y=\"-15\" font-size=\"12\">C</text>\n<rect x=\"550\" y=\"-67\" width=\"10\" height=\"12\" fill=\"green\" />\n<text x=\"550\" y=\"-58\" font-size=\"12\">G</text>\n<rect x=\"550\" y=\"-27\" width=\"10\" height=\"12\" fill=\"red\" />\n<text x=\"550\" y=\"-15\" font-size=\"12\">C</text>\n<rect x=\"525\" y=\"-67\" width=\"10\" height=\"12\" fill=\"red\" />\n<text x=\"525\" y=\"-58\" font-size=\"12\">C</text>\n<rect x=\"525\" y=\"-27\" width=\"10\" height=\"12\" fill=\"green\" />\n<text x=\"525\" y=\"-15\" font-size=\"12\">G</text>\n<rect x=\"575\" y=\"-67\" width=\"10\" height=\"12\" fill=\"green\" />\n<text x=\"575\" y=\"-58\" font-size=\"12\">G</text>\n<rect x=\"575\" y=\"-27\" width=\"10\" height=\"12\" fill=\"red\" />\n<text x=\"575\" y=\"-15\" font-size=\"12\">C</text>\n<rect x=\"550\" y=\"-67\" width=\"10\" height=\"12\" fill=\"blue\" />\n<text x=\"550\" y=\"-58\" font-size=\"12\">A</text>\n<rect x=\"550\" y=\"-27\" width=\"10\" height=\"12\" fill=\"yellow\" />\n<text x=\"550\" y=\"-15\" font-size=\"12\">T</text>\n<rect x=\"600\" y=\"-67\" width=\"10\" height=\"12\" fill=\"green\" />\n<text x=\"600\" y=\"-58\" font-size=\"12\">G</text>\n<rect x=\"600\" y=\"-27\" width=\"10\" height=\"12\" fill=\"red\" />\n<text x=\"600\" y=\"-15\" font-size=\"12\">C</text>\n<rect x=\"625\" y=\"-67\" width=\"10\" height=\"12\" fill=\"green\" />\n<text x=\"625\" y=\"-58\" font-size=\"12\">G</text>\n<rect x=\"625\" y=\"-27\" width=\"10\" height=\"12\" fill=\"red\" />\n<text x=\"625\" y=\"-15\" font-size=\"12\">C</text>\n<rect x=\"600\" y=\"-67\" width=\"10\" height=\"12\" fill=\"yellow\" />\n<text x=\"600\" y=\"-58\" font-size=\"12\">T</text>\n<rect x=\"600\" y=\"-27\" width=\"10\" height=\"12\" fill=\"blue\" />\n<text x=\"600\" y=\"-15\" font-size=\"12\">A</text>\n<rect x=\"650\" y=\"-67\" width=\"10\" height=\"12\" fill=\"green\" />\n<text x=\"650\" y=\"-58\" font-size=\"12\">G</text>\n<rect x=\"650\" y=\"-27\" width=\"10\" height=\"12\" fill=\"red\" />\n<text x=\"650\" y=\"-15\" font-size=\"12\">C</text>\n<rect x=\"625\" y=\"-67\" width=\"10\" height=\"12\" fill=\"blue\" />\n<text x=\"625\" y=\"-58\" font-size=\"12\">A</text>\n<rect x=\"625\" y=\"-27\" width=\"10\" height=\"12\" fill=\"yellow\" />\n<text x=\"625\" y=\"-15\" font-size=\"12\">T</text>\n<rect x=\"675\" y=\"-67\" width=\"10\" height=\"12\" fill=\"green\" />\n<text x=\"675\" y=\"-58\" font-size=\"12\">G</text>\n<rect x=\"675\" y=\"-27\" width=\"10\" height=\"12\" fill=\"red\" />\n<text x=\"675\" y=\"-15\" font-size=\"12\">C</text>\n<rect x=\"650\" y=\"-67\" width=\"10\" height=\"12\" fill=\"red\" />\n<text x=\"650\" y=\"-58\" font-size=\"12\">C</text>\n<rect x=\"650\" y=\"-27\" width=\"10\" height=\"12\" fill=\"green\" />\n<text x=\"650\" y=\"-15\" font-size=\"12\">G</text>\n<rect x=\"700\" y=\"-67\" width=\"10\" height=\"12\" fill=\"green\" />\n<text x=\"700\" y=\"-58\" font-size=\"12\">G</text>\n<rect x=\"700\" y=\"-27\" width=\"10\" height=\"12\" fill=\"red\" />\n<text x=\"700\" y=\"-15\" font-size=\"12\">C</text>\n<rect x=\"725\" y=\"-67\" width=\"10\" height=\"12\" fill=\"green\" />\n<text x=\"725\" y=\"-58\" font-size=\"12\">G</text>\n<rect x=\"725\" y=\"-27\" width=\"10\" height=\"12\" fill=\"red\" />\n<text x=\"725\" y=\"-15\" font-size=\"12\">C</text>\n</svg>"
          },
          "metadata": {},
          "execution_count": 3
        }
      ]
    },
    {
      "cell_type": "code",
      "source": [
        "#ATCACGACGTGACGGATCGAGCAGTACG"
      ],
      "metadata": {
        "id": "F5eI_S3-DueE"
      },
      "execution_count": null,
      "outputs": []
    },
    {
      "cell_type": "code",
      "metadata": {
        "tags": [],
        "cell_id": "7cdc25ed653548c8830b3337f4c6979e",
        "output_cleared": true,
        "deepnote_cell_type": "code",
        "id": "4ggbPHBPGgQd",
        "colab": {
          "base_uri": "https://localhost:8080/"
        },
        "outputId": "f8b626b3-d666-4883-a864-a88ebb8a8cb6"
      },
      "source": [
        "#testing for AAs :)\n",
        "AA_list = []\n",
        "dna=['ATC', 'ACG', 'ACG', 'TGA', 'CGG', 'ATC', 'GAG', 'CAG', 'TAC', 'G']\n",
        "print(dna[0:9:])\n",
        "\n",
        "for i in dna[0:9]:\n",
        "\n",
        "  if i == 'TTT' or 'TTC':\n",
        "    AA_list.append('Phe')\n",
        "\n",
        "  if i == 'TTA' or 'TTG' or 'CTT' or 'CTC' or 'CTA' or 'CTG':\n",
        "    AA_list.append('Leu')\n",
        "\n",
        "  if i == 'ATT' or 'ATC' or 'ATA':\n",
        "    AA_list.append('lle')\n",
        "\n",
        "  if i =='GTT' or 'GTC' or 'GTA' or 'GTG':\n",
        "    AA_list.append('Val')\n",
        "\n",
        "  if i == 'TCT' or 'TCC' or 'TCA' or 'TCG' or 'AGT' or 'AGC':\n",
        "    AA_list.append('Ser')\n",
        "\n",
        "  if i == 'CCT' or 'CCC' or 'CCA' or 'CCG':\n",
        "    AA_list.append('Pro')\n",
        "\n",
        "  if i == 'ACT' or 'ACC' or 'ACA' or 'ACG':\n",
        "    AA_list.append('Thr')\n",
        "\n",
        "  if i == 'GTC' or 'GCC' or 'GCA' or 'GCG':\n",
        "    AA_list.append('Ala')\n",
        "\n",
        "  if i == 'TAT' or 'TAC':\n",
        "    AA_list.append('Tyr')\n",
        "\n",
        "  if i == 'CAT' or 'CAC':\n",
        "    AA_list.append('His')\n",
        "\n",
        "  if i == 'CAA' or 'CAG':\n",
        "    AA_list.append('Gln')\n",
        "\n",
        "  if i == 'AAT' or 'AAC':\n",
        "    AA_list.append('Asn')\n",
        "\n",
        "  if i == 'AAA' or 'AAG':\n",
        "    AA_list.append('Lys')\n",
        "\n",
        "  if i == 'GAT' or 'GAC':\n",
        "    AA_list. append('Asp')\n",
        "\n",
        "  if i == 'GAA' or 'GAG':\n",
        "    AA_list.append('Glu')\n",
        "\n",
        "  if i == 'TGT' or 'TGC':\n",
        "    AA_list.append('Cys')\n",
        "\n",
        "  if i == 'TGG':\n",
        "    AA_list.append('Trp')\n",
        "\n",
        "  if i == 'CGT' or 'CGC' or 'CGA' or 'CGG' or 'AGA' or 'AGG':\n",
        "    AA_list.append('Arg')\n",
        "\n",
        "  if i == 'GGT' or 'GGC' or 'GGA' or 'GGG':\n",
        "    AA_list. append('Gly')\n",
        "\n",
        "  if i == 'TAA' or 'TAG' or 'TGA':\n",
        "    AA_list.append('STOP')\n",
        "\n",
        "  else:\n",
        "    AA_list.append('START')\n",
        "\n",
        "print(AA_list)\n",
        "\n",
        "\n"
      ],
      "execution_count": null,
      "outputs": [
        {
          "output_type": "stream",
          "name": "stdout",
          "text": [
            "['ATC', 'ACG', 'ACG', 'TGA', 'CGG', 'ATC', 'GAG', 'CAG', 'TAC']\n",
            "['Phe', 'Leu', 'lle', 'Val', 'Ser', 'Pro', 'Thr', 'Ala', 'Tyr', 'His', 'Gln', 'Asn', 'Lys', 'Asp', 'Glu', 'Cys', 'Arg', 'Gly', 'STOP', 'Phe', 'Leu', 'lle', 'Val', 'Ser', 'Pro', 'Thr', 'Ala', 'Tyr', 'His', 'Gln', 'Asn', 'Lys', 'Asp', 'Glu', 'Cys', 'Arg', 'Gly', 'STOP', 'Phe', 'Leu', 'lle', 'Val', 'Ser', 'Pro', 'Thr', 'Ala', 'Tyr', 'His', 'Gln', 'Asn', 'Lys', 'Asp', 'Glu', 'Cys', 'Arg', 'Gly', 'STOP', 'Phe', 'Leu', 'lle', 'Val', 'Ser', 'Pro', 'Thr', 'Ala', 'Tyr', 'His', 'Gln', 'Asn', 'Lys', 'Asp', 'Glu', 'Cys', 'Arg', 'Gly', 'STOP', 'Phe', 'Leu', 'lle', 'Val', 'Ser', 'Pro', 'Thr', 'Ala', 'Tyr', 'His', 'Gln', 'Asn', 'Lys', 'Asp', 'Glu', 'Cys', 'Arg', 'Gly', 'STOP', 'Phe', 'Leu', 'lle', 'Val', 'Ser', 'Pro', 'Thr', 'Ala', 'Tyr', 'His', 'Gln', 'Asn', 'Lys', 'Asp', 'Glu', 'Cys', 'Arg', 'Gly', 'STOP', 'Phe', 'Leu', 'lle', 'Val', 'Ser', 'Pro', 'Thr', 'Ala', 'Tyr', 'His', 'Gln', 'Asn', 'Lys', 'Asp', 'Glu', 'Cys', 'Arg', 'Gly', 'STOP', 'Phe', 'Leu', 'lle', 'Val', 'Ser', 'Pro', 'Thr', 'Ala', 'Tyr', 'His', 'Gln', 'Asn', 'Lys', 'Asp', 'Glu', 'Cys', 'Arg', 'Gly', 'STOP', 'Phe', 'Leu', 'lle', 'Val', 'Ser', 'Pro', 'Thr', 'Ala', 'Tyr', 'His', 'Gln', 'Asn', 'Lys', 'Asp', 'Glu', 'Cys', 'Arg', 'Gly', 'STOP']\n"
          ]
        }
      ]
    },
    {
      "cell_type": "code",
      "metadata": {
        "tags": [],
        "cell_id": "15e3778bdd17496db45aee561642a5ef",
        "source_hash": "1e6b36e2",
        "output_cleared": true,
        "execution_start": 1631141439445,
        "execution_millis": 8,
        "deepnote_to_be_reexecuted": false,
        "deepnote_cell_type": "code",
        "colab": {
          "base_uri": "https://localhost:8080/",
          "height": 1000
        },
        "outputId": "796a8419-04ad-4679-da46-69b055616057",
        "id": "RiEXtR7N0nne"
      },
      "source": [
        "#Pseudocode\n",
        "#also load github package on easy draw\n",
        "# import 'from binascii import b2a_qp'\n",
        "# DNA string - 28 bases long\n",
        "# your code only has to work for a length 28 string\n",
        "# BUT if you want a challenge, try to make it work for\n",
        "# a variety of lengths (maybe 5-50)\n",
        "\n",
        "# setting up the drawing canvas\n",
        "#easydraw(700, 700) makes the canvas for the dna strand construction\n",
        "\n",
        "# your code to draw the DNA goes here\n",
        "#Text(text, font size, x position, y position)\n",
        "\n",
        "#Rectangle(x position, y position, width, height)\n",
        "\n",
        "#dna=str('ATCACGACGTGACGGATCGAGCAGTACG') # start with OG strand and save as a variable in coding environment\n",
        "#Rectangle(0,67,1000,12, fill='black') #This code provides the backbone strands for the DNA sequence; filled the backbones as color 'black'\n",
        "#Rectangle(0,3,1000,12, fill='black') #\"                                                                                                  \"\n",
        "#count =0 #start the count for spacing within strand and between NA = need this so the NAs won't overlap\n",
        "#for i in dna: #start with iterating the individual NA in the DNA sequence the for loop #I think that there will be a for loop within a while loop??\n",
        "#  if i=='A': #This if/elif/else will print the bps for the strand building\n",
        "\n",
        "#    Rectangle(count,55, 10, 12, fill='blue') #print/draws rectangle that corresponds with NA ''A and will specify that A will be associated with the color blue\n",
        "#    print(Text('A', 12, count, 58))          #also print 'A' on rectangle\n",
        "#    Rectangle(count,15, 10, 12, fill='yellow') #for this rectangle if when code is ran, if detect an 'A', it will also print/draw the complement bp (e.g. A to T) => T will be associated with color yellow\n",
        "#    print(Text('T', 12, count, 15))             #also print 'T' on that complementary rectangle\n",
        "#  if i=='T':                                    # if code detects a T within the dna strand\n",
        "\n",
        " #   Rectangle(count,55, 10, 12, fill='yellow') #print/draws rectangle that corresponds with NA 'T' and will specify that T will be associated with the color yellow\n",
        " #   print(Text('T', 12, count, 58))            # also prints 'T' on that rectangle\n",
        " #   Rectangle(count,15, 10, 12, fill='blue')   # #for this rectangle if when code is ran, if detect an 'T', it will also print/draw the complement bp (e.g. T to A) => A will be associated with color blue\n",
        " #   print(Text('A', 12, count, 15))            # #also print 'A' on that complementary rectangle\n",
        " # if i=='C':                                   # if code detects a 'C' within the dna strand\n",
        "\n",
        " #   Rectangle(count,55, 10, 12, fill='red')    #print/draws rectangle that corresponds with NA 'C' and will specify that C will be associated with the color red\n",
        " #   print(Text('C', 12, count, 58))            # also print 'C' on the drawn rectangle\n",
        " #   Rectangle(count,15, 10, 12, fill='green')  # for this rectangle if the code is ran, if detect an 'C', it will also print/draw the complement bp (e.g. C to G) => G will be associated with the color green\n",
        " #   print(Text('G', 12, count, 15))            # also print 'G' on the complementary dna rectangle\n",
        " # if i =='GG':                                 # if code detects a 'GG' within the dna strand\n",
        " #   g_count = 0                                # ran into an issue with the 'GG's in thw sequence so had to make one subset of code for when code runs into GGs... so if detect 'GG's.. have its own counter\n",
        " #   g_count +=8                                #within this count have 8 spaces between the drawn rectangles along with the printed Text\n",
        "#  Rectangle(g_count,55, 10, 12, fill='green') #print/draws rectangle that corresponds with NA 'GG' and will specify that GG will be associated with the color green\n",
        "\n",
        " #   print(Text('G', 12, g_count, 58))          # also print 'G' on the drawn rectangles\n",
        " #   Rectangle(g_count,15, 10, 12, fill='red')  # for this rectangle if the code is ran, if detect an 'GG', it will also print/draw the complement bp (e.g. G to C) => C will be associated with the color color red\n",
        " #   print(Text('C', 12, g_count, 15))          #also print 'C' on the complementary dna rectangle **so overall, if have double GGs within the sequence will have printed bps of Gs along with its complementary bps (Cs)\n",
        " # else:                                        # This is just when run into regular singular G's within the dna sequence\n",
        "\n",
        " #   Rectangle(count+50,55, 10, 12, fill='green') #print/draws rectangle that corresponds with NA 'G' and will specify that C will be associated with the color green\n",
        " #   print(Text('G', 12, count+50, 58))           #also print 'G' on the drawn rectangle\n",
        " #   Rectangle(count+50,15, 10, 12, fill='red')   #for this rectangle if the code is ran, if detect an 'G', it will also print/draw the complement bp (e.g. G to C) => C will be associated with the color red\n",
        " #   print(Text('C', 12, count+50, 15))           # also print 'C' on the complementary dna bp rectangle\n",
        "\n",
        " # count += 25                                   # this count corresponds to the count=0 and is nested within these if/elif/else statements and illustrates that spacing between the printed bps\n",
        "\n",
        "\n",
        "#show_me_my_drawing()                            # this will print the completed structure of OG dna strand and the complementary\n",
        "\n",
        "#how to make this repeat and loop through??? > got it .... use a for loop :)\n"
      ],
      "execution_count": null,
      "outputs": [
        {
          "output_type": "stream",
          "name": "stdout",
          "text": [
            "None\n",
            "None\n",
            "None\n",
            "None\n",
            "None\n",
            "None\n",
            "None\n",
            "None\n",
            "None\n",
            "None\n",
            "None\n",
            "None\n",
            "None\n",
            "None\n",
            "None\n",
            "None\n",
            "None\n",
            "None\n",
            "None\n",
            "None\n",
            "None\n",
            "None\n",
            "None\n",
            "None\n",
            "None\n",
            "None\n",
            "None\n",
            "None\n",
            "None\n",
            "None\n",
            "None\n",
            "None\n",
            "None\n",
            "None\n",
            "None\n",
            "None\n",
            "None\n",
            "None\n",
            "None\n",
            "None\n",
            "None\n",
            "None\n",
            "None\n",
            "None\n",
            "None\n",
            "None\n",
            "None\n",
            "None\n",
            "None\n",
            "None\n",
            "None\n",
            "None\n",
            "None\n",
            "None\n",
            "None\n",
            "None\n",
            "None\n",
            "None\n",
            "None\n",
            "None\n",
            "None\n",
            "None\n",
            "None\n",
            "None\n",
            "None\n",
            "None\n",
            "None\n",
            "None\n",
            "None\n",
            "None\n",
            "None\n",
            "None\n",
            "None\n",
            "None\n",
            "None\n",
            "None\n",
            "None\n",
            "None\n",
            "None\n",
            "None\n",
            "None\n",
            "None\n",
            "None\n",
            "None\n",
            "None\n",
            "None\n",
            "None\n",
            "None\n",
            "None\n",
            "None\n",
            "None\n",
            "None\n",
            "None\n",
            "None\n"
          ]
        },
        {
          "output_type": "execute_result",
          "data": {
            "text/plain": [
              "<drawSvg.drawing.Drawing at 0x7800b20bfe80>"
            ],
            "image/svg+xml": "<?xml version=\"1.0\" encoding=\"UTF-8\"?>\n<svg xmlns=\"http://www.w3.org/2000/svg\" xmlns:xlink=\"http://www.w3.org/1999/xlink\"\n     width=\"700\" height=\"700\" viewBox=\"0 -700 700 700\">\n<defs>\n</defs>\n<rect x=\"0\" y=\"-79\" width=\"1000\" height=\"12\" fill=\"black\" />\n<rect x=\"0\" y=\"-15\" width=\"1000\" height=\"12\" fill=\"black\" />\n<rect x=\"0\" y=\"-67\" width=\"10\" height=\"12\" fill=\"blue\" />\n<text x=\"0\" y=\"-58\" font-size=\"12\">A</text>\n<rect x=\"0\" y=\"-27\" width=\"10\" height=\"12\" fill=\"yellow\" />\n<text x=\"0\" y=\"-15\" font-size=\"12\">T</text>\n<rect x=\"50\" y=\"-67\" width=\"10\" height=\"12\" fill=\"green\" />\n<text x=\"50\" y=\"-58\" font-size=\"12\">G</text>\n<rect x=\"50\" y=\"-27\" width=\"10\" height=\"12\" fill=\"red\" />\n<text x=\"50\" y=\"-15\" font-size=\"12\">C</text>\n<rect x=\"25\" y=\"-67\" width=\"10\" height=\"12\" fill=\"yellow\" />\n<text x=\"25\" y=\"-58\" font-size=\"12\">T</text>\n<rect x=\"25\" y=\"-27\" width=\"10\" height=\"12\" fill=\"blue\" />\n<text x=\"25\" y=\"-15\" font-size=\"12\">A</text>\n<rect x=\"75\" y=\"-67\" width=\"10\" height=\"12\" fill=\"green\" />\n<text x=\"75\" y=\"-58\" font-size=\"12\">G</text>\n<rect x=\"75\" y=\"-27\" width=\"10\" height=\"12\" fill=\"red\" />\n<text x=\"75\" y=\"-15\" font-size=\"12\">C</text>\n<rect x=\"50\" y=\"-67\" width=\"10\" height=\"12\" fill=\"red\" />\n<text x=\"50\" y=\"-58\" font-size=\"12\">C</text>\n<rect x=\"50\" y=\"-27\" width=\"10\" height=\"12\" fill=\"green\" />\n<text x=\"50\" y=\"-15\" font-size=\"12\">G</text>\n<rect x=\"100\" y=\"-67\" width=\"10\" height=\"12\" fill=\"green\" />\n<text x=\"100\" y=\"-58\" font-size=\"12\">G</text>\n<rect x=\"100\" y=\"-27\" width=\"10\" height=\"12\" fill=\"red\" />\n<text x=\"100\" y=\"-15\" font-size=\"12\">C</text>\n<rect x=\"75\" y=\"-67\" width=\"10\" height=\"12\" fill=\"blue\" />\n<text x=\"75\" y=\"-58\" font-size=\"12\">A</text>\n<rect x=\"75\" y=\"-27\" width=\"10\" height=\"12\" fill=\"yellow\" />\n<text x=\"75\" y=\"-15\" font-size=\"12\">T</text>\n<rect x=\"125\" y=\"-67\" width=\"10\" height=\"12\" fill=\"green\" />\n<text x=\"125\" y=\"-58\" font-size=\"12\">G</text>\n<rect x=\"125\" y=\"-27\" width=\"10\" height=\"12\" fill=\"red\" />\n<text x=\"125\" y=\"-15\" font-size=\"12\">C</text>\n<rect x=\"100\" y=\"-67\" width=\"10\" height=\"12\" fill=\"red\" />\n<text x=\"100\" y=\"-58\" font-size=\"12\">C</text>\n<rect x=\"100\" y=\"-27\" width=\"10\" height=\"12\" fill=\"green\" />\n<text x=\"100\" y=\"-15\" font-size=\"12\">G</text>\n<rect x=\"150\" y=\"-67\" width=\"10\" height=\"12\" fill=\"green\" />\n<text x=\"150\" y=\"-58\" font-size=\"12\">G</text>\n<rect x=\"150\" y=\"-27\" width=\"10\" height=\"12\" fill=\"red\" />\n<text x=\"150\" y=\"-15\" font-size=\"12\">C</text>\n<rect x=\"175\" y=\"-67\" width=\"10\" height=\"12\" fill=\"green\" />\n<text x=\"175\" y=\"-58\" font-size=\"12\">G</text>\n<rect x=\"175\" y=\"-27\" width=\"10\" height=\"12\" fill=\"red\" />\n<text x=\"175\" y=\"-15\" font-size=\"12\">C</text>\n<rect x=\"150\" y=\"-67\" width=\"10\" height=\"12\" fill=\"blue\" />\n<text x=\"150\" y=\"-58\" font-size=\"12\">A</text>\n<rect x=\"150\" y=\"-27\" width=\"10\" height=\"12\" fill=\"yellow\" />\n<text x=\"150\" y=\"-15\" font-size=\"12\">T</text>\n<rect x=\"200\" y=\"-67\" width=\"10\" height=\"12\" fill=\"green\" />\n<text x=\"200\" y=\"-58\" font-size=\"12\">G</text>\n<rect x=\"200\" y=\"-27\" width=\"10\" height=\"12\" fill=\"red\" />\n<text x=\"200\" y=\"-15\" font-size=\"12\">C</text>\n<rect x=\"175\" y=\"-67\" width=\"10\" height=\"12\" fill=\"red\" />\n<text x=\"175\" y=\"-58\" font-size=\"12\">C</text>\n<rect x=\"175\" y=\"-27\" width=\"10\" height=\"12\" fill=\"green\" />\n<text x=\"175\" y=\"-15\" font-size=\"12\">G</text>\n<rect x=\"225\" y=\"-67\" width=\"10\" height=\"12\" fill=\"green\" />\n<text x=\"225\" y=\"-58\" font-size=\"12\">G</text>\n<rect x=\"225\" y=\"-27\" width=\"10\" height=\"12\" fill=\"red\" />\n<text x=\"225\" y=\"-15\" font-size=\"12\">C</text>\n<rect x=\"250\" y=\"-67\" width=\"10\" height=\"12\" fill=\"green\" />\n<text x=\"250\" y=\"-58\" font-size=\"12\">G</text>\n<rect x=\"250\" y=\"-27\" width=\"10\" height=\"12\" fill=\"red\" />\n<text x=\"250\" y=\"-15\" font-size=\"12\">C</text>\n<rect x=\"225\" y=\"-67\" width=\"10\" height=\"12\" fill=\"yellow\" />\n<text x=\"225\" y=\"-58\" font-size=\"12\">T</text>\n<rect x=\"225\" y=\"-27\" width=\"10\" height=\"12\" fill=\"blue\" />\n<text x=\"225\" y=\"-15\" font-size=\"12\">A</text>\n<rect x=\"275\" y=\"-67\" width=\"10\" height=\"12\" fill=\"green\" />\n<text x=\"275\" y=\"-58\" font-size=\"12\">G</text>\n<rect x=\"275\" y=\"-27\" width=\"10\" height=\"12\" fill=\"red\" />\n<text x=\"275\" y=\"-15\" font-size=\"12\">C</text>\n<rect x=\"300\" y=\"-67\" width=\"10\" height=\"12\" fill=\"green\" />\n<text x=\"300\" y=\"-58\" font-size=\"12\">G</text>\n<rect x=\"300\" y=\"-27\" width=\"10\" height=\"12\" fill=\"red\" />\n<text x=\"300\" y=\"-15\" font-size=\"12\">C</text>\n<rect x=\"275\" y=\"-67\" width=\"10\" height=\"12\" fill=\"blue\" />\n<text x=\"275\" y=\"-58\" font-size=\"12\">A</text>\n<rect x=\"275\" y=\"-27\" width=\"10\" height=\"12\" fill=\"yellow\" />\n<text x=\"275\" y=\"-15\" font-size=\"12\">T</text>\n<rect x=\"325\" y=\"-67\" width=\"10\" height=\"12\" fill=\"green\" />\n<text x=\"325\" y=\"-58\" font-size=\"12\">G</text>\n<rect x=\"325\" y=\"-27\" width=\"10\" height=\"12\" fill=\"red\" />\n<text x=\"325\" y=\"-15\" font-size=\"12\">C</text>\n<rect x=\"300\" y=\"-67\" width=\"10\" height=\"12\" fill=\"red\" />\n<text x=\"300\" y=\"-58\" font-size=\"12\">C</text>\n<rect x=\"300\" y=\"-27\" width=\"10\" height=\"12\" fill=\"green\" />\n<text x=\"300\" y=\"-15\" font-size=\"12\">G</text>\n<rect x=\"350\" y=\"-67\" width=\"10\" height=\"12\" fill=\"green\" />\n<text x=\"350\" y=\"-58\" font-size=\"12\">G</text>\n<rect x=\"350\" y=\"-27\" width=\"10\" height=\"12\" fill=\"red\" />\n<text x=\"350\" y=\"-15\" font-size=\"12\">C</text>\n<rect x=\"375\" y=\"-67\" width=\"10\" height=\"12\" fill=\"green\" />\n<text x=\"375\" y=\"-58\" font-size=\"12\">G</text>\n<rect x=\"375\" y=\"-27\" width=\"10\" height=\"12\" fill=\"red\" />\n<text x=\"375\" y=\"-15\" font-size=\"12\">C</text>\n<rect x=\"400\" y=\"-67\" width=\"10\" height=\"12\" fill=\"green\" />\n<text x=\"400\" y=\"-58\" font-size=\"12\">G</text>\n<rect x=\"400\" y=\"-27\" width=\"10\" height=\"12\" fill=\"red\" />\n<text x=\"400\" y=\"-15\" font-size=\"12\">C</text>\n<rect x=\"375\" y=\"-67\" width=\"10\" height=\"12\" fill=\"blue\" />\n<text x=\"375\" y=\"-58\" font-size=\"12\">A</text>\n<rect x=\"375\" y=\"-27\" width=\"10\" height=\"12\" fill=\"yellow\" />\n<text x=\"375\" y=\"-15\" font-size=\"12\">T</text>\n<rect x=\"425\" y=\"-67\" width=\"10\" height=\"12\" fill=\"green\" />\n<text x=\"425\" y=\"-58\" font-size=\"12\">G</text>\n<rect x=\"425\" y=\"-27\" width=\"10\" height=\"12\" fill=\"red\" />\n<text x=\"425\" y=\"-15\" font-size=\"12\">C</text>\n<rect x=\"400\" y=\"-67\" width=\"10\" height=\"12\" fill=\"yellow\" />\n<text x=\"400\" y=\"-58\" font-size=\"12\">T</text>\n<rect x=\"400\" y=\"-27\" width=\"10\" height=\"12\" fill=\"blue\" />\n<text x=\"400\" y=\"-15\" font-size=\"12\">A</text>\n<rect x=\"450\" y=\"-67\" width=\"10\" height=\"12\" fill=\"green\" />\n<text x=\"450\" y=\"-58\" font-size=\"12\">G</text>\n<rect x=\"450\" y=\"-27\" width=\"10\" height=\"12\" fill=\"red\" />\n<text x=\"450\" y=\"-15\" font-size=\"12\">C</text>\n<rect x=\"425\" y=\"-67\" width=\"10\" height=\"12\" fill=\"red\" />\n<text x=\"425\" y=\"-58\" font-size=\"12\">C</text>\n<rect x=\"425\" y=\"-27\" width=\"10\" height=\"12\" fill=\"green\" />\n<text x=\"425\" y=\"-15\" font-size=\"12\">G</text>\n<rect x=\"475\" y=\"-67\" width=\"10\" height=\"12\" fill=\"green\" />\n<text x=\"475\" y=\"-58\" font-size=\"12\">G</text>\n<rect x=\"475\" y=\"-27\" width=\"10\" height=\"12\" fill=\"red\" />\n<text x=\"475\" y=\"-15\" font-size=\"12\">C</text>\n<rect x=\"500\" y=\"-67\" width=\"10\" height=\"12\" fill=\"green\" />\n<text x=\"500\" y=\"-58\" font-size=\"12\">G</text>\n<rect x=\"500\" y=\"-27\" width=\"10\" height=\"12\" fill=\"red\" />\n<text x=\"500\" y=\"-15\" font-size=\"12\">C</text>\n<rect x=\"475\" y=\"-67\" width=\"10\" height=\"12\" fill=\"blue\" />\n<text x=\"475\" y=\"-58\" font-size=\"12\">A</text>\n<rect x=\"475\" y=\"-27\" width=\"10\" height=\"12\" fill=\"yellow\" />\n<text x=\"475\" y=\"-15\" font-size=\"12\">T</text>\n<rect x=\"525\" y=\"-67\" width=\"10\" height=\"12\" fill=\"green\" />\n<text x=\"525\" y=\"-58\" font-size=\"12\">G</text>\n<rect x=\"525\" y=\"-27\" width=\"10\" height=\"12\" fill=\"red\" />\n<text x=\"525\" y=\"-15\" font-size=\"12\">C</text>\n<rect x=\"550\" y=\"-67\" width=\"10\" height=\"12\" fill=\"green\" />\n<text x=\"550\" y=\"-58\" font-size=\"12\">G</text>\n<rect x=\"550\" y=\"-27\" width=\"10\" height=\"12\" fill=\"red\" />\n<text x=\"550\" y=\"-15\" font-size=\"12\">C</text>\n<rect x=\"525\" y=\"-67\" width=\"10\" height=\"12\" fill=\"red\" />\n<text x=\"525\" y=\"-58\" font-size=\"12\">C</text>\n<rect x=\"525\" y=\"-27\" width=\"10\" height=\"12\" fill=\"green\" />\n<text x=\"525\" y=\"-15\" font-size=\"12\">G</text>\n<rect x=\"575\" y=\"-67\" width=\"10\" height=\"12\" fill=\"green\" />\n<text x=\"575\" y=\"-58\" font-size=\"12\">G</text>\n<rect x=\"575\" y=\"-27\" width=\"10\" height=\"12\" fill=\"red\" />\n<text x=\"575\" y=\"-15\" font-size=\"12\">C</text>\n<rect x=\"550\" y=\"-67\" width=\"10\" height=\"12\" fill=\"blue\" />\n<text x=\"550\" y=\"-58\" font-size=\"12\">A</text>\n<rect x=\"550\" y=\"-27\" width=\"10\" height=\"12\" fill=\"yellow\" />\n<text x=\"550\" y=\"-15\" font-size=\"12\">T</text>\n<rect x=\"600\" y=\"-67\" width=\"10\" height=\"12\" fill=\"green\" />\n<text x=\"600\" y=\"-58\" font-size=\"12\">G</text>\n<rect x=\"600\" y=\"-27\" width=\"10\" height=\"12\" fill=\"red\" />\n<text x=\"600\" y=\"-15\" font-size=\"12\">C</text>\n<rect x=\"625\" y=\"-67\" width=\"10\" height=\"12\" fill=\"green\" />\n<text x=\"625\" y=\"-58\" font-size=\"12\">G</text>\n<rect x=\"625\" y=\"-27\" width=\"10\" height=\"12\" fill=\"red\" />\n<text x=\"625\" y=\"-15\" font-size=\"12\">C</text>\n<rect x=\"600\" y=\"-67\" width=\"10\" height=\"12\" fill=\"yellow\" />\n<text x=\"600\" y=\"-58\" font-size=\"12\">T</text>\n<rect x=\"600\" y=\"-27\" width=\"10\" height=\"12\" fill=\"blue\" />\n<text x=\"600\" y=\"-15\" font-size=\"12\">A</text>\n<rect x=\"650\" y=\"-67\" width=\"10\" height=\"12\" fill=\"green\" />\n<text x=\"650\" y=\"-58\" font-size=\"12\">G</text>\n<rect x=\"650\" y=\"-27\" width=\"10\" height=\"12\" fill=\"red\" />\n<text x=\"650\" y=\"-15\" font-size=\"12\">C</text>\n<rect x=\"625\" y=\"-67\" width=\"10\" height=\"12\" fill=\"blue\" />\n<text x=\"625\" y=\"-58\" font-size=\"12\">A</text>\n<rect x=\"625\" y=\"-27\" width=\"10\" height=\"12\" fill=\"yellow\" />\n<text x=\"625\" y=\"-15\" font-size=\"12\">T</text>\n<rect x=\"675\" y=\"-67\" width=\"10\" height=\"12\" fill=\"green\" />\n<text x=\"675\" y=\"-58\" font-size=\"12\">G</text>\n<rect x=\"675\" y=\"-27\" width=\"10\" height=\"12\" fill=\"red\" />\n<text x=\"675\" y=\"-15\" font-size=\"12\">C</text>\n<rect x=\"650\" y=\"-67\" width=\"10\" height=\"12\" fill=\"red\" />\n<text x=\"650\" y=\"-58\" font-size=\"12\">C</text>\n<rect x=\"650\" y=\"-27\" width=\"10\" height=\"12\" fill=\"green\" />\n<text x=\"650\" y=\"-15\" font-size=\"12\">G</text>\n<rect x=\"700\" y=\"-67\" width=\"10\" height=\"12\" fill=\"green\" />\n<text x=\"700\" y=\"-58\" font-size=\"12\">G</text>\n<rect x=\"700\" y=\"-27\" width=\"10\" height=\"12\" fill=\"red\" />\n<text x=\"700\" y=\"-15\" font-size=\"12\">C</text>\n<rect x=\"725\" y=\"-67\" width=\"10\" height=\"12\" fill=\"green\" />\n<text x=\"725\" y=\"-58\" font-size=\"12\">G</text>\n<rect x=\"725\" y=\"-27\" width=\"10\" height=\"12\" fill=\"red\" />\n<text x=\"725\" y=\"-15\" font-size=\"12\">C</text>\n</svg>"
          },
          "metadata": {},
          "execution_count": 3
        }
      ]
    },
    {
      "cell_type": "code",
      "metadata": {
        "tags": [],
        "cell_id": "15e3778bdd17496db45aee561642a5ef",
        "source_hash": "1e6b36e2",
        "output_cleared": true,
        "execution_start": 1631141439445,
        "execution_millis": 8,
        "deepnote_to_be_reexecuted": false,
        "deepnote_cell_type": "code",
        "colab": {
          "base_uri": "https://localhost:8080/",
          "height": 1000
        },
        "outputId": "796a8419-04ad-4679-da46-69b055616057",
        "id": "-zTevySx0mLs"
      },
      "source": [
        "from binascii import b2a_qp\n",
        "# DNA string - 28 bases long\n",
        "# your code only has to work for a length 28 string\n",
        "# BUT if you want a challenge, try to make it work for\n",
        "# a variety of lengths (maybe 5-50)\n",
        "\n",
        "# setting up the drawing canvas\n",
        "easydraw(700, 700)\n",
        "\n",
        "# your code to draw the DNA goes here\n",
        "#Text(text, font size, x position, y position)\n",
        "\n",
        "#Rectangle(x position, y position, width, height)\n",
        "\n",
        "dna=str('ATCACGACGTGACGGATCGAGCAGTACG') # start with OG strand and save as a variable in coding environment\n",
        "Rectangle(0,67,1000,12, fill='black') #This code provides the backbone strands for the DNA sequence; filled the backbones as color 'black'\n",
        "Rectangle(0,3,1000,12, fill='black') #\"                                                                                                  \"\n",
        "count =0 #start the count for spacing within strand and between NA = need this so the NAs won't overlap\n",
        "for i in dna: #start with iterating the individual NA in the DNA sequence the for loop #I think that there will be a for loop within a while loop??\n",
        "  if i=='A': #This if/elif/else will print the bps for the strand building\n",
        "\n",
        "    Rectangle(count,55, 10, 12, fill='blue') #print/draws rectangle that corresponds with NA ''A and will specify that A will be associated with the color blue\n",
        "    print(Text('A', 12, count, 58))          #also print 'A' on rectangle\n",
        "    Rectangle(count,15, 10, 12, fill='yellow') #for this rectangle if when code is ran, if detect an 'A', it will also print/draw the complement bp (e.g. A to T) => T will be associated with color yellow\n",
        "    print(Text('T', 12, count, 15))             #also print 'T' on that complementary rectangle\n",
        "  if i=='T':                                    # if code detects a T within the dna strand\n",
        "\n",
        "    Rectangle(count,55, 10, 12, fill='yellow') #print/draws rectangle that corresponds with NA 'T' and will specify that T will be associated with the color yellow\n",
        "    print(Text('T', 12, count, 58))            # also prints 'T' on that rectangle\n",
        "    Rectangle(count,15, 10, 12, fill='blue')   # #for this rectangle if when code is ran, if detect an 'T', it will also print/draw the complement bp (e.g. T to A) => A will be associated with color blue\n",
        "    print(Text('A', 12, count, 15))            # #also print 'A' on that complementary rectangle\n",
        "  if i=='C':                                   # if code detects a 'C' within the dna strand\n",
        "\n",
        "    Rectangle(count,55, 10, 12, fill='red')    #print/draws rectangle that corresponds with NA 'C' and will specify that C will be associated with the color red\n",
        "    print(Text('C', 12, count, 58))            # also print 'C' on the drawn rectangle\n",
        "    Rectangle(count,15, 10, 12, fill='green')  # for this rectangle if the code is ran, if detect an 'C', it will also print/draw the complement bp (e.g. C to G) => G will be associated with the color green\n",
        "    print(Text('G', 12, count, 15))            # also print 'G' on the complementary dna rectangle\n",
        "  if i =='GG':                                 # if code detects a 'GG' within the dna strand\n",
        "    g_count = 0                                # ran into an issue with the 'GG's in thw sequence so had to make one subset of code for when code runs into GGs... so if detect 'GG's.. have its own counter\n",
        "    g_count +=8                                #within this count have 8 spaces between the drawn rectangles along with the printed Text\n",
        "    Rectangle(g_count,55, 10, 12, fill='green') #print/draws rectangle that corresponds with NA 'GG' and will specify that GG will be associated with the color green\n",
        "\n",
        "    print(Text('G', 12, g_count, 58))          # also print 'G' on the drawn rectangles\n",
        "    Rectangle(g_count,15, 10, 12, fill='red')  # for this rectangle if the code is ran, if detect an 'GG', it will also print/draw the complement bp (e.g. G to C) => C will be associated with the color color red\n",
        "    print(Text('C', 12, g_count, 15))          #also print 'C' on the complementary dna rectangle **so overall, if have double GGs within the sequence will have printed bps of Gs along with its complementary bps (Cs)\n",
        "  else:                                        # This is just when run into regular singular G's within the dna sequence\n",
        "\n",
        "    Rectangle(count+50,55, 10, 12, fill='green') #print/draws rectangle that corresponds with NA 'G' and will specify that C will be associated with the color green\n",
        "    print(Text('G', 12, count+50, 58))           #also print 'G' on the drawn rectangle\n",
        "    Rectangle(count+50,15, 10, 12, fill='red')   #for this rectangle if the code is ran, if detect an 'G', it will also print/draw the complement bp (e.g. G to C) => C will be associated with the color red\n",
        "    print(Text('C', 12, count+50, 15))           # also print 'C' on the complementary dna bp rectangle\n",
        "\n",
        "  count += 25                                   # this count corresponds to the count=0 and is nested within these if/elif/else statements and illustrates that spacing between the printed bps\n",
        "\n",
        "\n",
        "show_me_my_drawing()                            # this will print the completed structure of OG dna strand and the complementary\n",
        "\n",
        "#how to make this repeat and loop through??? > got it .... use a for loop :)\n"
      ],
      "execution_count": null,
      "outputs": [
        {
          "output_type": "stream",
          "name": "stdout",
          "text": [
            "None\n",
            "None\n",
            "None\n",
            "None\n",
            "None\n",
            "None\n",
            "None\n",
            "None\n",
            "None\n",
            "None\n",
            "None\n",
            "None\n",
            "None\n",
            "None\n",
            "None\n",
            "None\n",
            "None\n",
            "None\n",
            "None\n",
            "None\n",
            "None\n",
            "None\n",
            "None\n",
            "None\n",
            "None\n",
            "None\n",
            "None\n",
            "None\n",
            "None\n",
            "None\n",
            "None\n",
            "None\n",
            "None\n",
            "None\n",
            "None\n",
            "None\n",
            "None\n",
            "None\n",
            "None\n",
            "None\n",
            "None\n",
            "None\n",
            "None\n",
            "None\n",
            "None\n",
            "None\n",
            "None\n",
            "None\n",
            "None\n",
            "None\n",
            "None\n",
            "None\n",
            "None\n",
            "None\n",
            "None\n",
            "None\n",
            "None\n",
            "None\n",
            "None\n",
            "None\n",
            "None\n",
            "None\n",
            "None\n",
            "None\n",
            "None\n",
            "None\n",
            "None\n",
            "None\n",
            "None\n",
            "None\n",
            "None\n",
            "None\n",
            "None\n",
            "None\n",
            "None\n",
            "None\n",
            "None\n",
            "None\n",
            "None\n",
            "None\n",
            "None\n",
            "None\n",
            "None\n",
            "None\n",
            "None\n",
            "None\n",
            "None\n",
            "None\n",
            "None\n",
            "None\n",
            "None\n",
            "None\n",
            "None\n",
            "None\n"
          ]
        },
        {
          "output_type": "execute_result",
          "data": {
            "text/plain": [
              "<drawSvg.drawing.Drawing at 0x7800b20bfe80>"
            ],
            "image/svg+xml": "<?xml version=\"1.0\" encoding=\"UTF-8\"?>\n<svg xmlns=\"http://www.w3.org/2000/svg\" xmlns:xlink=\"http://www.w3.org/1999/xlink\"\n     width=\"700\" height=\"700\" viewBox=\"0 -700 700 700\">\n<defs>\n</defs>\n<rect x=\"0\" y=\"-79\" width=\"1000\" height=\"12\" fill=\"black\" />\n<rect x=\"0\" y=\"-15\" width=\"1000\" height=\"12\" fill=\"black\" />\n<rect x=\"0\" y=\"-67\" width=\"10\" height=\"12\" fill=\"blue\" />\n<text x=\"0\" y=\"-58\" font-size=\"12\">A</text>\n<rect x=\"0\" y=\"-27\" width=\"10\" height=\"12\" fill=\"yellow\" />\n<text x=\"0\" y=\"-15\" font-size=\"12\">T</text>\n<rect x=\"50\" y=\"-67\" width=\"10\" height=\"12\" fill=\"green\" />\n<text x=\"50\" y=\"-58\" font-size=\"12\">G</text>\n<rect x=\"50\" y=\"-27\" width=\"10\" height=\"12\" fill=\"red\" />\n<text x=\"50\" y=\"-15\" font-size=\"12\">C</text>\n<rect x=\"25\" y=\"-67\" width=\"10\" height=\"12\" fill=\"yellow\" />\n<text x=\"25\" y=\"-58\" font-size=\"12\">T</text>\n<rect x=\"25\" y=\"-27\" width=\"10\" height=\"12\" fill=\"blue\" />\n<text x=\"25\" y=\"-15\" font-size=\"12\">A</text>\n<rect x=\"75\" y=\"-67\" width=\"10\" height=\"12\" fill=\"green\" />\n<text x=\"75\" y=\"-58\" font-size=\"12\">G</text>\n<rect x=\"75\" y=\"-27\" width=\"10\" height=\"12\" fill=\"red\" />\n<text x=\"75\" y=\"-15\" font-size=\"12\">C</text>\n<rect x=\"50\" y=\"-67\" width=\"10\" height=\"12\" fill=\"red\" />\n<text x=\"50\" y=\"-58\" font-size=\"12\">C</text>\n<rect x=\"50\" y=\"-27\" width=\"10\" height=\"12\" fill=\"green\" />\n<text x=\"50\" y=\"-15\" font-size=\"12\">G</text>\n<rect x=\"100\" y=\"-67\" width=\"10\" height=\"12\" fill=\"green\" />\n<text x=\"100\" y=\"-58\" font-size=\"12\">G</text>\n<rect x=\"100\" y=\"-27\" width=\"10\" height=\"12\" fill=\"red\" />\n<text x=\"100\" y=\"-15\" font-size=\"12\">C</text>\n<rect x=\"75\" y=\"-67\" width=\"10\" height=\"12\" fill=\"blue\" />\n<text x=\"75\" y=\"-58\" font-size=\"12\">A</text>\n<rect x=\"75\" y=\"-27\" width=\"10\" height=\"12\" fill=\"yellow\" />\n<text x=\"75\" y=\"-15\" font-size=\"12\">T</text>\n<rect x=\"125\" y=\"-67\" width=\"10\" height=\"12\" fill=\"green\" />\n<text x=\"125\" y=\"-58\" font-size=\"12\">G</text>\n<rect x=\"125\" y=\"-27\" width=\"10\" height=\"12\" fill=\"red\" />\n<text x=\"125\" y=\"-15\" font-size=\"12\">C</text>\n<rect x=\"100\" y=\"-67\" width=\"10\" height=\"12\" fill=\"red\" />\n<text x=\"100\" y=\"-58\" font-size=\"12\">C</text>\n<rect x=\"100\" y=\"-27\" width=\"10\" height=\"12\" fill=\"green\" />\n<text x=\"100\" y=\"-15\" font-size=\"12\">G</text>\n<rect x=\"150\" y=\"-67\" width=\"10\" height=\"12\" fill=\"green\" />\n<text x=\"150\" y=\"-58\" font-size=\"12\">G</text>\n<rect x=\"150\" y=\"-27\" width=\"10\" height=\"12\" fill=\"red\" />\n<text x=\"150\" y=\"-15\" font-size=\"12\">C</text>\n<rect x=\"175\" y=\"-67\" width=\"10\" height=\"12\" fill=\"green\" />\n<text x=\"175\" y=\"-58\" font-size=\"12\">G</text>\n<rect x=\"175\" y=\"-27\" width=\"10\" height=\"12\" fill=\"red\" />\n<text x=\"175\" y=\"-15\" font-size=\"12\">C</text>\n<rect x=\"150\" y=\"-67\" width=\"10\" height=\"12\" fill=\"blue\" />\n<text x=\"150\" y=\"-58\" font-size=\"12\">A</text>\n<rect x=\"150\" y=\"-27\" width=\"10\" height=\"12\" fill=\"yellow\" />\n<text x=\"150\" y=\"-15\" font-size=\"12\">T</text>\n<rect x=\"200\" y=\"-67\" width=\"10\" height=\"12\" fill=\"green\" />\n<text x=\"200\" y=\"-58\" font-size=\"12\">G</text>\n<rect x=\"200\" y=\"-27\" width=\"10\" height=\"12\" fill=\"red\" />\n<text x=\"200\" y=\"-15\" font-size=\"12\">C</text>\n<rect x=\"175\" y=\"-67\" width=\"10\" height=\"12\" fill=\"red\" />\n<text x=\"175\" y=\"-58\" font-size=\"12\">C</text>\n<rect x=\"175\" y=\"-27\" width=\"10\" height=\"12\" fill=\"green\" />\n<text x=\"175\" y=\"-15\" font-size=\"12\">G</text>\n<rect x=\"225\" y=\"-67\" width=\"10\" height=\"12\" fill=\"green\" />\n<text x=\"225\" y=\"-58\" font-size=\"12\">G</text>\n<rect x=\"225\" y=\"-27\" width=\"10\" height=\"12\" fill=\"red\" />\n<text x=\"225\" y=\"-15\" font-size=\"12\">C</text>\n<rect x=\"250\" y=\"-67\" width=\"10\" height=\"12\" fill=\"green\" />\n<text x=\"250\" y=\"-58\" font-size=\"12\">G</text>\n<rect x=\"250\" y=\"-27\" width=\"10\" height=\"12\" fill=\"red\" />\n<text x=\"250\" y=\"-15\" font-size=\"12\">C</text>\n<rect x=\"225\" y=\"-67\" width=\"10\" height=\"12\" fill=\"yellow\" />\n<text x=\"225\" y=\"-58\" font-size=\"12\">T</text>\n<rect x=\"225\" y=\"-27\" width=\"10\" height=\"12\" fill=\"blue\" />\n<text x=\"225\" y=\"-15\" font-size=\"12\">A</text>\n<rect x=\"275\" y=\"-67\" width=\"10\" height=\"12\" fill=\"green\" />\n<text x=\"275\" y=\"-58\" font-size=\"12\">G</text>\n<rect x=\"275\" y=\"-27\" width=\"10\" height=\"12\" fill=\"red\" />\n<text x=\"275\" y=\"-15\" font-size=\"12\">C</text>\n<rect x=\"300\" y=\"-67\" width=\"10\" height=\"12\" fill=\"green\" />\n<text x=\"300\" y=\"-58\" font-size=\"12\">G</text>\n<rect x=\"300\" y=\"-27\" width=\"10\" height=\"12\" fill=\"red\" />\n<text x=\"300\" y=\"-15\" font-size=\"12\">C</text>\n<rect x=\"275\" y=\"-67\" width=\"10\" height=\"12\" fill=\"blue\" />\n<text x=\"275\" y=\"-58\" font-size=\"12\">A</text>\n<rect x=\"275\" y=\"-27\" width=\"10\" height=\"12\" fill=\"yellow\" />\n<text x=\"275\" y=\"-15\" font-size=\"12\">T</text>\n<rect x=\"325\" y=\"-67\" width=\"10\" height=\"12\" fill=\"green\" />\n<text x=\"325\" y=\"-58\" font-size=\"12\">G</text>\n<rect x=\"325\" y=\"-27\" width=\"10\" height=\"12\" fill=\"red\" />\n<text x=\"325\" y=\"-15\" font-size=\"12\">C</text>\n<rect x=\"300\" y=\"-67\" width=\"10\" height=\"12\" fill=\"red\" />\n<text x=\"300\" y=\"-58\" font-size=\"12\">C</text>\n<rect x=\"300\" y=\"-27\" width=\"10\" height=\"12\" fill=\"green\" />\n<text x=\"300\" y=\"-15\" font-size=\"12\">G</text>\n<rect x=\"350\" y=\"-67\" width=\"10\" height=\"12\" fill=\"green\" />\n<text x=\"350\" y=\"-58\" font-size=\"12\">G</text>\n<rect x=\"350\" y=\"-27\" width=\"10\" height=\"12\" fill=\"red\" />\n<text x=\"350\" y=\"-15\" font-size=\"12\">C</text>\n<rect x=\"375\" y=\"-67\" width=\"10\" height=\"12\" fill=\"green\" />\n<text x=\"375\" y=\"-58\" font-size=\"12\">G</text>\n<rect x=\"375\" y=\"-27\" width=\"10\" height=\"12\" fill=\"red\" />\n<text x=\"375\" y=\"-15\" font-size=\"12\">C</text>\n<rect x=\"400\" y=\"-67\" width=\"10\" height=\"12\" fill=\"green\" />\n<text x=\"400\" y=\"-58\" font-size=\"12\">G</text>\n<rect x=\"400\" y=\"-27\" width=\"10\" height=\"12\" fill=\"red\" />\n<text x=\"400\" y=\"-15\" font-size=\"12\">C</text>\n<rect x=\"375\" y=\"-67\" width=\"10\" height=\"12\" fill=\"blue\" />\n<text x=\"375\" y=\"-58\" font-size=\"12\">A</text>\n<rect x=\"375\" y=\"-27\" width=\"10\" height=\"12\" fill=\"yellow\" />\n<text x=\"375\" y=\"-15\" font-size=\"12\">T</text>\n<rect x=\"425\" y=\"-67\" width=\"10\" height=\"12\" fill=\"green\" />\n<text x=\"425\" y=\"-58\" font-size=\"12\">G</text>\n<rect x=\"425\" y=\"-27\" width=\"10\" height=\"12\" fill=\"red\" />\n<text x=\"425\" y=\"-15\" font-size=\"12\">C</text>\n<rect x=\"400\" y=\"-67\" width=\"10\" height=\"12\" fill=\"yellow\" />\n<text x=\"400\" y=\"-58\" font-size=\"12\">T</text>\n<rect x=\"400\" y=\"-27\" width=\"10\" height=\"12\" fill=\"blue\" />\n<text x=\"400\" y=\"-15\" font-size=\"12\">A</text>\n<rect x=\"450\" y=\"-67\" width=\"10\" height=\"12\" fill=\"green\" />\n<text x=\"450\" y=\"-58\" font-size=\"12\">G</text>\n<rect x=\"450\" y=\"-27\" width=\"10\" height=\"12\" fill=\"red\" />\n<text x=\"450\" y=\"-15\" font-size=\"12\">C</text>\n<rect x=\"425\" y=\"-67\" width=\"10\" height=\"12\" fill=\"red\" />\n<text x=\"425\" y=\"-58\" font-size=\"12\">C</text>\n<rect x=\"425\" y=\"-27\" width=\"10\" height=\"12\" fill=\"green\" />\n<text x=\"425\" y=\"-15\" font-size=\"12\">G</text>\n<rect x=\"475\" y=\"-67\" width=\"10\" height=\"12\" fill=\"green\" />\n<text x=\"475\" y=\"-58\" font-size=\"12\">G</text>\n<rect x=\"475\" y=\"-27\" width=\"10\" height=\"12\" fill=\"red\" />\n<text x=\"475\" y=\"-15\" font-size=\"12\">C</text>\n<rect x=\"500\" y=\"-67\" width=\"10\" height=\"12\" fill=\"green\" />\n<text x=\"500\" y=\"-58\" font-size=\"12\">G</text>\n<rect x=\"500\" y=\"-27\" width=\"10\" height=\"12\" fill=\"red\" />\n<text x=\"500\" y=\"-15\" font-size=\"12\">C</text>\n<rect x=\"475\" y=\"-67\" width=\"10\" height=\"12\" fill=\"blue\" />\n<text x=\"475\" y=\"-58\" font-size=\"12\">A</text>\n<rect x=\"475\" y=\"-27\" width=\"10\" height=\"12\" fill=\"yellow\" />\n<text x=\"475\" y=\"-15\" font-size=\"12\">T</text>\n<rect x=\"525\" y=\"-67\" width=\"10\" height=\"12\" fill=\"green\" />\n<text x=\"525\" y=\"-58\" font-size=\"12\">G</text>\n<rect x=\"525\" y=\"-27\" width=\"10\" height=\"12\" fill=\"red\" />\n<text x=\"525\" y=\"-15\" font-size=\"12\">C</text>\n<rect x=\"550\" y=\"-67\" width=\"10\" height=\"12\" fill=\"green\" />\n<text x=\"550\" y=\"-58\" font-size=\"12\">G</text>\n<rect x=\"550\" y=\"-27\" width=\"10\" height=\"12\" fill=\"red\" />\n<text x=\"550\" y=\"-15\" font-size=\"12\">C</text>\n<rect x=\"525\" y=\"-67\" width=\"10\" height=\"12\" fill=\"red\" />\n<text x=\"525\" y=\"-58\" font-size=\"12\">C</text>\n<rect x=\"525\" y=\"-27\" width=\"10\" height=\"12\" fill=\"green\" />\n<text x=\"525\" y=\"-15\" font-size=\"12\">G</text>\n<rect x=\"575\" y=\"-67\" width=\"10\" height=\"12\" fill=\"green\" />\n<text x=\"575\" y=\"-58\" font-size=\"12\">G</text>\n<rect x=\"575\" y=\"-27\" width=\"10\" height=\"12\" fill=\"red\" />\n<text x=\"575\" y=\"-15\" font-size=\"12\">C</text>\n<rect x=\"550\" y=\"-67\" width=\"10\" height=\"12\" fill=\"blue\" />\n<text x=\"550\" y=\"-58\" font-size=\"12\">A</text>\n<rect x=\"550\" y=\"-27\" width=\"10\" height=\"12\" fill=\"yellow\" />\n<text x=\"550\" y=\"-15\" font-size=\"12\">T</text>\n<rect x=\"600\" y=\"-67\" width=\"10\" height=\"12\" fill=\"green\" />\n<text x=\"600\" y=\"-58\" font-size=\"12\">G</text>\n<rect x=\"600\" y=\"-27\" width=\"10\" height=\"12\" fill=\"red\" />\n<text x=\"600\" y=\"-15\" font-size=\"12\">C</text>\n<rect x=\"625\" y=\"-67\" width=\"10\" height=\"12\" fill=\"green\" />\n<text x=\"625\" y=\"-58\" font-size=\"12\">G</text>\n<rect x=\"625\" y=\"-27\" width=\"10\" height=\"12\" fill=\"red\" />\n<text x=\"625\" y=\"-15\" font-size=\"12\">C</text>\n<rect x=\"600\" y=\"-67\" width=\"10\" height=\"12\" fill=\"yellow\" />\n<text x=\"600\" y=\"-58\" font-size=\"12\">T</text>\n<rect x=\"600\" y=\"-27\" width=\"10\" height=\"12\" fill=\"blue\" />\n<text x=\"600\" y=\"-15\" font-size=\"12\">A</text>\n<rect x=\"650\" y=\"-67\" width=\"10\" height=\"12\" fill=\"green\" />\n<text x=\"650\" y=\"-58\" font-size=\"12\">G</text>\n<rect x=\"650\" y=\"-27\" width=\"10\" height=\"12\" fill=\"red\" />\n<text x=\"650\" y=\"-15\" font-size=\"12\">C</text>\n<rect x=\"625\" y=\"-67\" width=\"10\" height=\"12\" fill=\"blue\" />\n<text x=\"625\" y=\"-58\" font-size=\"12\">A</text>\n<rect x=\"625\" y=\"-27\" width=\"10\" height=\"12\" fill=\"yellow\" />\n<text x=\"625\" y=\"-15\" font-size=\"12\">T</text>\n<rect x=\"675\" y=\"-67\" width=\"10\" height=\"12\" fill=\"green\" />\n<text x=\"675\" y=\"-58\" font-size=\"12\">G</text>\n<rect x=\"675\" y=\"-27\" width=\"10\" height=\"12\" fill=\"red\" />\n<text x=\"675\" y=\"-15\" font-size=\"12\">C</text>\n<rect x=\"650\" y=\"-67\" width=\"10\" height=\"12\" fill=\"red\" />\n<text x=\"650\" y=\"-58\" font-size=\"12\">C</text>\n<rect x=\"650\" y=\"-27\" width=\"10\" height=\"12\" fill=\"green\" />\n<text x=\"650\" y=\"-15\" font-size=\"12\">G</text>\n<rect x=\"700\" y=\"-67\" width=\"10\" height=\"12\" fill=\"green\" />\n<text x=\"700\" y=\"-58\" font-size=\"12\">G</text>\n<rect x=\"700\" y=\"-27\" width=\"10\" height=\"12\" fill=\"red\" />\n<text x=\"700\" y=\"-15\" font-size=\"12\">C</text>\n<rect x=\"725\" y=\"-67\" width=\"10\" height=\"12\" fill=\"green\" />\n<text x=\"725\" y=\"-58\" font-size=\"12\">G</text>\n<rect x=\"725\" y=\"-27\" width=\"10\" height=\"12\" fill=\"red\" />\n<text x=\"725\" y=\"-15\" font-size=\"12\">C</text>\n</svg>"
          },
          "metadata": {},
          "execution_count": 3
        }
      ]
    },
    {
      "cell_type": "code",
      "source": [
        "print(len(dna))"
      ],
      "metadata": {
        "id": "sm4LEqBGOkau",
        "colab": {
          "base_uri": "https://localhost:8080/"
        },
        "outputId": "1e557949-4120-48e0-cc8e-d21cd46de86b"
      },
      "execution_count": null,
      "outputs": [
        {
          "output_type": "stream",
          "name": "stdout",
          "text": [
            "28\n"
          ]
        }
      ]
    },
    {
      "cell_type": "code",
      "source": [
        " elif dna=='T':\n",
        "    Rectangle(5,35, 50, 45, fill='yellow')\n",
        "    print(Text('Thymine', 12, 14, 20))\n",
        "    Rectangle(5,35, 20, 45, fill='blue')\n",
        "    print(Text('Complementary base: Adenine', 12, 14, 20))\n",
        "  elif dna=='C':\n",
        "    Rectangle(10,30, 50, 45, fill='red')\n",
        "    print(Text('Cytosine', 12, 14, 20))\n",
        "    Rectangle(10,30, 20, 45, fill='green')\n",
        "  print(Text('Complementary base: Guanine', 12, 14, 20))\n",
        "else:\n",
        " Rectangle(20,20, 50, 45, fill='green')\n",
        " print(Text('Guanine', 12, 14, 20))\n",
        " Rectangle(20,20, 20, 45, fill='red')\n",
        " print(Text('Complementary base: Cytosine', 12, 14, 20))\n"
      ],
      "metadata": {
        "id": "NOIbo7CgOkXc"
      },
      "execution_count": null,
      "outputs": []
    },
    {
      "cell_type": "code",
      "source": [
        "dna_2 = 'TAGTGCTGACTGCCTAGCTCGTCATGC' #complement strand"
      ],
      "metadata": {
        "id": "qqx5GkbGOkUh"
      },
      "execution_count": null,
      "outputs": []
    },
    {
      "cell_type": "code",
      "source": [
        "dna = 'ATCACGACGTGACGGATCGAGCAGTACG' #OG strand\n",
        "count = 0\n",
        "count += 15\n",
        "for i in dna: #start the for loop #I think that there will be a for loop within a while loop??\n",
        "\n",
        "  if i=='A': #This if/elif/else will print the bps for the strand building\n",
        "    Rectangle(2,55, 25, 12, fill='blue')\n",
        "    print(Text('A', 12, 10, 58))\n",
        "    Rectangle(2,15, 25, 12, fill='yellow')\n",
        "    print(Text('T', 12, 10, 15))\n",
        "  elif i=='T':\n",
        "    Rectangle(25,55, 25, 12, fill='yellow')\n",
        "    print(Text('T', 12, 35, 58))\n",
        "    Rectangle(25,15, 25, 12, fill='blue')\n",
        "    print(Text('A', 12, 35, 15))\n",
        "  elif i=='C':\n",
        "    Rectangle(50,55, 25, 12, fill='red')\n",
        "    print(Text('C', 12, 60, 58))\n",
        "    Rectangle(50,15, 25, 12, fill='green')\n",
        "    print(Text('G', 12, 60, 15))\n",
        "  else:\n",
        "    Rectangle(75,55, 25, 12, fill='green')\n",
        "    print(Text('G', 12, 85, 58))\n",
        "    Rectangle(75,15, 25, 12, fill='red')\n",
        "    print(Text('C', 12, 85, 15))\n",
        "\n",
        "\n",
        "\n",
        "Rectangle(2,67,1000,12, fill='black')\n",
        "Rectangle(2,3,1000,12, fill='black')\n",
        "show_me_my_drawing()\n",
        "\n",
        "#how to make this repeat and loop through???\n"
      ],
      "metadata": {
        "id": "Sgat8IjIOkRo"
      },
      "execution_count": null,
      "outputs": []
    },
    {
      "cell_type": "code",
      "source": [],
      "metadata": {
        "id": "IvprWoFnOkO-"
      },
      "execution_count": null,
      "outputs": []
    },
    {
      "cell_type": "code",
      "source": [],
      "metadata": {
        "id": "HghyDJuPOkL7"
      },
      "execution_count": null,
      "outputs": []
    },
    {
      "cell_type": "code",
      "source": [],
      "metadata": {
        "id": "4HaQAxJ_OkI9"
      },
      "execution_count": null,
      "outputs": []
    },
    {
      "cell_type": "code",
      "source": [],
      "metadata": {
        "id": "AP6KCgy6OkFo"
      },
      "execution_count": null,
      "outputs": []
    },
    {
      "cell_type": "markdown",
      "source": [
        "<a style='text-decoration:none;line-height:16px;display:flex;color:#5B5B62;padding:10px;justify-content:end;' href='https://deepnote.com?utm_source=created-in-deepnote-cell&projectId=9931abad-2929-4744-8508-56533fdb85fd' target=\"_blank\">\n",
        "<img alt='Created in deepnote.com' style='display:inline;max-height:16px;margin:0px;margin-right:7.5px;' src='data:image/svg+xml;base64,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' > </img>\n",
        "Created in <span style='font-weight:600;margin-left:4px;'>Deepnote</span></a>"
      ],
      "metadata": {
        "created_in_deepnote_cell": true,
        "deepnote_cell_type": "markdown",
        "id": "u72QXSe5GgQd"
      }
    },
    {
      "cell_type": "markdown",
      "source": [],
      "metadata": {
        "id": "nCtOSsOJOjbB"
      }
    }
  ],
  "nbformat": 4,
  "nbformat_minor": 0,
  "metadata": {
    "deepnote": {
      "is_reactive": false
    },
    "orig_nbformat": 2,
    "deepnote_notebook_id": "9cb117a4149a406caa9e8641ebaa87c0",
    "deepnote_execution_queue": [],
    "colab": {
      "provenance": [],
      "include_colab_link": true
    },
    "language_info": {
      "name": "python"
    },
    "kernelspec": {
      "name": "python3",
      "display_name": "Python 3"
    }
  }
}