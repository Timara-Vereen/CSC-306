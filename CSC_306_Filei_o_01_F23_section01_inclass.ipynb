{
  "cells": [
    {
      "cell_type": "markdown",
      "metadata": {
        "id": "view-in-github",
        "colab_type": "text"
      },
      "source": [
        "<a href=\"https://colab.research.google.com/github/Timara-Vereen/CSC-306/blob/main/CSC_306_Filei_o_01_F23_section01_inclass.ipynb\" target=\"_parent\"><img src=\"https://colab.research.google.com/assets/colab-badge.svg\" alt=\"Open In Colab\"/></a>"
      ]
    },
    {
      "cell_type": "markdown",
      "source": [
        "## Importing modules/libraries\n",
        "(In general, modules/libraries/packages, are a resuable chunk of code (that is typically written by someone else) that we can import and use the exisiting code!)"
      ],
      "metadata": {
        "id": "_Ozz4DkyB_2D"
      }
    },
    {
      "cell_type": "code",
      "source": [
        "import datetime\n",
        "today = datetime.datetime.today()\n",
        "print(f\"today is {today}\") # here we are using an fstring\n",
        "\n",
        "# if you want to read more about the datetime module:\n",
        "# https://docs.python.org/3/library/datetime.html"
      ],
      "metadata": {
        "id": "yj4btzZ_CBfr",
        "colab": {
          "base_uri": "https://localhost:8080/"
        },
        "outputId": "ef3be3ec-4b03-427a-d65c-27bf0d29b741"
      },
      "execution_count": null,
      "outputs": [
        {
          "output_type": "stream",
          "name": "stdout",
          "text": [
            "today is 2023-10-10 18:51:32.904672\n"
          ]
        }
      ]
    },
    {
      "cell_type": "code",
      "source": [
        "# can read more here on the random module and the different methods:\n",
        "# https://www.w3schools.com/python/module_random.asp\n",
        "\n",
        "import random\n",
        "bingo_num = random.randint(1, 80)\n",
        "print(bingo_num)"
      ],
      "metadata": {
        "id": "3vWk1nX5CBbf"
      },
      "execution_count": null,
      "outputs": []
    },
    {
      "cell_type": "code",
      "source": [
        "# pick a random BINGO letter\n"
      ],
      "metadata": {
        "id": "H6F7FN9PCGxV"
      },
      "execution_count": null,
      "outputs": []
    },
    {
      "cell_type": "code",
      "source": [
        "# pick a random nucleotide\n",
        "\n"
      ],
      "metadata": {
        "id": "Gmwpc0tQCGpJ"
      },
      "execution_count": null,
      "outputs": []
    },
    {
      "cell_type": "code",
      "source": [
        "print(\"A\")\n",
        "print(\"T\")\n",
        "print(\"C\")\n",
        "print(\"G\")"
      ],
      "metadata": {
        "id": "vG6WyldNCLYR"
      },
      "execution_count": null,
      "outputs": []
    },
    {
      "cell_type": "code",
      "source": [
        "# Prompt: want the output to be ATCG instead of how is printed above.\n",
        "# What can we do inside the print function?\n",
        "# hint: https://www.w3schools.com/python/ref_func_print.asp\n",
        "\n"
      ],
      "metadata": {
        "id": "mdph3yx8CLHA"
      },
      "execution_count": null,
      "outputs": []
    },
    {
      "cell_type": "code",
      "source": [
        "# want:\n",
        "ATCG"
      ],
      "metadata": {
        "id": "CGXN4G-LCRb7"
      },
      "execution_count": null,
      "outputs": []
    },
    {
      "cell_type": "code",
      "source": [],
      "metadata": {
        "id": "qcQeN-ypCRX7"
      },
      "execution_count": null,
      "outputs": []
    },
    {
      "cell_type": "markdown",
      "source": [
        "#**File input**"
      ],
      "metadata": {
        "cell_id": "2e27a36de4c94999a56fb7d18ff34524",
        "deepnote_cell_type": "markdown",
        "id": "PO1_sDaG7DPZ"
      }
    },
    {
      "cell_type": "markdown",
      "source": [
        "### Download a file to a notebook - with !wget"
      ],
      "metadata": {
        "id": "qBc1sZP3HcOn"
      }
    },
    {
      "cell_type": "markdown",
      "source": [
        "use !wget from your colab notebook to retrieve data from the web\n",
        "\n",
        "! is used to run a command line program from this colab notebook (browser-based platform)\n",
        "\n",
        "if curious, read more about it: https://www.scrapingbee.com/blog/python-wget/"
      ],
      "metadata": {
        "id": "4gNH06DUHjRQ"
      }
    },
    {
      "cell_type": "code",
      "source": [
        "# wget command line tool / shell command\n",
        "# it stands for \"web get\"\n",
        "#! is an iPython/Jupyter command to execute command line from the notebook"
      ],
      "metadata": {
        "id": "Y8cVuiw1EAVp"
      },
      "execution_count": null,
      "outputs": []
    },
    {
      "cell_type": "markdown",
      "source": [
        "### Check out this great [colab notebook](https://colab.research.google.com/drive/1uPy9_BtVtH8hyNySMNLAJ5euoNHWG1qt?usp=sharing) on loading and saving data from external sources!"
      ],
      "metadata": {
        "id": "J3PmemS7LYHQ"
      }
    },
    {
      "cell_type": "code",
      "source": [
        "# you can run this cell to import the file we are using:\n",
        "!wget https://raw.githubusercontent.com/Peziza/306/main/vogue.txt"
      ],
      "metadata": {
        "id": "JwOvbcl0pr7X"
      },
      "execution_count": null,
      "outputs": []
    },
    {
      "cell_type": "markdown",
      "source": [
        "### open() function - for working with files in Python\n",
        "```f = open('my_file.txt', 'r')```\n",
        "\n",
        "Takes two parameters; filename and mode\n",
        "\n",
        "'r' - Read\n",
        "\n",
        "'a' - Append\n",
        "\n",
        "'w' - Write\n",
        "\n",
        "'x' - Create"
      ],
      "metadata": {
        "id": "FAx7LlKsTY6E"
      }
    },
    {
      "cell_type": "code",
      "source": [
        "# open the file:\n",
        "f =\n",
        "\n",
        "# let's print the first line of the file\n",
        "\n"
      ],
      "metadata": {
        "cell_id": "5f5ed62062a54ff0a4f6390b7ea338b6",
        "source_hash": "195e0046",
        "execution_start": 1680028686424,
        "execution_millis": 2,
        "deepnote_to_be_reexecuted": false,
        "deepnote_cell_type": "code",
        "id": "n7KRQ_as7DPc"
      },
      "outputs": [],
      "execution_count": null
    },
    {
      "cell_type": "code",
      "source": [
        "# to print a set number of lines:\n",
        "f = open('vogue.txt', 'r')\n",
        "\n",
        "\n"
      ],
      "metadata": {
        "cell_id": "bd4058c0bba340288644a34422c1a4b0",
        "source_hash": "bb8a542c",
        "execution_start": 1680028767496,
        "execution_millis": 2,
        "deepnote_to_be_reexecuted": false,
        "deepnote_cell_type": "code",
        "id": "3QBB2Rza7DPd"
      },
      "outputs": [],
      "execution_count": null
    },
    {
      "cell_type": "code",
      "source": [
        "help(open)"
      ],
      "metadata": {
        "id": "33QEn9JSEDZu"
      },
      "execution_count": null,
      "outputs": []
    },
    {
      "cell_type": "code",
      "source": [
        "# you can run this cell to import the file we are using:\n",
        "!wget https://raw.githubusercontent.com/Peziza/306/main/vogue_short.txt"
      ],
      "metadata": {
        "id": "eRiqTPB8qQRK"
      },
      "execution_count": null,
      "outputs": []
    },
    {
      "cell_type": "code",
      "source": [
        "# enumerate function\n",
        "# this is extra!\n",
        "\n",
        "x = ('apple', 'banana', 'cherry') # tuple\n",
        "y = enumerate(x)\n",
        "print(list(y))\n"
      ],
      "metadata": {
        "cell_id": "bd67b9f419474250aac35ff76db79b22",
        "source_hash": "d9506a9f",
        "execution_start": 1680028911841,
        "execution_millis": 5,
        "deepnote_to_be_reexecuted": false,
        "deepnote_cell_type": "code",
        "id": "e58Qb-337DPe"
      },
      "outputs": [],
      "execution_count": null
    },
    {
      "cell_type": "code",
      "source": [
        "# extra\n",
        "# enumerate will return index, item\n",
        "\n",
        "f = open('vogue_short.txt', 'r')\n",
        "for index, line in enumerate(f, 1):\n",
        "    print(index, line)\n",
        "\n",
        "f.close()\n"
      ],
      "metadata": {
        "cell_id": "3e37d1889e154c23b94b48d2718f6ff3",
        "source_hash": "b6ce1ed3",
        "execution_start": 1680029005802,
        "execution_millis": 6,
        "deepnote_to_be_reexecuted": false,
        "deepnote_cell_type": "code",
        "id": "dgBhkFIQ7DPe"
      },
      "outputs": [],
      "execution_count": null
    },
    {
      "cell_type": "code",
      "source": [
        "# Additional resrouces on enumerate if you are interested:\n",
        "# enumerate returns index, item\n",
        "# https://www.geeksforgeeks.org/how-to-read-specific-lines-from-a-file-in-python/\n",
        "# using a for loop with two variables with enumerate\n",
        "# https://thispointer.com/for-loop-with-two-variables-in-python/"
      ],
      "metadata": {
        "id": "j3Gkn8H_Nb8H"
      },
      "execution_count": null,
      "outputs": []
    },
    {
      "cell_type": "code",
      "source": [],
      "metadata": {
        "cell_id": "5216b6e7ec84499598f283d518f05cc5",
        "deepnote_cell_type": "code",
        "id": "H_q6Ac6B7DPe"
      },
      "outputs": [],
      "execution_count": null
    },
    {
      "cell_type": "code",
      "source": [
        "# you can run this cell to import the file we are using:\n",
        "!wget https://raw.githubusercontent.com/Peziza/306/main/beyonce-knowles.txt"
      ],
      "metadata": {
        "id": "tU3sDIq8qTq4"
      },
      "execution_count": null,
      "outputs": []
    },
    {
      "cell_type": "code",
      "source": [
        "# print the first line:\n",
        "f = open('beyonce-knowles.txt', 'r')\n"
      ],
      "metadata": {
        "cell_id": "b71ede2833e44adb8d79b6c4aec9c052",
        "source_hash": "c64debf5",
        "is_code_hidden": false,
        "execution_start": 1680022864887,
        "execution_millis": 122,
        "deepnote_to_be_reexecuted": false,
        "deepnote_cell_type": "code",
        "id": "ouWz452Y7DPe"
      },
      "outputs": [],
      "execution_count": null
    },
    {
      "cell_type": "code",
      "source": [
        "# print the first couple of lines:\n",
        "f = open('beyonce-knowles.txt', 'r')\n"
      ],
      "metadata": {
        "cell_id": "341568d7060e4100bc5ac6c92639078d",
        "source_hash": "eaec25d1",
        "is_code_hidden": false,
        "execution_start": 1680022869173,
        "execution_millis": 22,
        "deepnote_to_be_reexecuted": false,
        "deepnote_cell_type": "code",
        "id": "DkRIw8PJ7DPe"
      },
      "outputs": [],
      "execution_count": null
    },
    {
      "cell_type": "code",
      "source": [
        "# let's find out how many lines are in the file:\n",
        "f = open('beyonce-knowles.txt', 'r')\n",
        "\n"
      ],
      "metadata": {
        "cell_id": "cca6182bca5d4f92820b4445fe45608e",
        "source_hash": "62e085de",
        "execution_start": 1680029575187,
        "execution_millis": 39,
        "deepnote_to_be_reexecuted": false,
        "deepnote_cell_type": "code",
        "id": "8aZ4_Sdz7DPf"
      },
      "outputs": [],
      "execution_count": null
    },
    {
      "cell_type": "markdown",
      "source": [
        "### readline()\n",
        "takes one line at the time from the stream"
      ],
      "metadata": {
        "id": "SaQyPpxFH5bK"
      }
    },
    {
      "cell_type": "code",
      "source": [
        "f = open('vogue.txt', 'r')\n",
        "f.readline()"
      ],
      "metadata": {
        "cell_id": "389b6a8e66f94ccab27c7e5780449961",
        "source_hash": "6bcc5fb1",
        "execution_start": 1680032410747,
        "execution_millis": 3,
        "deepnote_to_be_reexecuted": false,
        "deepnote_cell_type": "code",
        "id": "leC2_bAE7DPf"
      },
      "outputs": [],
      "execution_count": null
    },
    {
      "cell_type": "code",
      "source": [
        "print(f.readline())\n",
        "print(f.readline())"
      ],
      "metadata": {
        "id": "N12ckWgXJYwv"
      },
      "execution_count": null,
      "outputs": []
    },
    {
      "cell_type": "markdown",
      "source": [
        "### readlines()\n",
        "takes the remaining lines (from the stream), returns them in a list.\n",
        "IF you have not used read() or readline() before readlines() then it will take ALL the lines.\n",
        "Each item in the list is a line from the file\n",
        "\n",
        "NOTE: if readlines() is used right after you open a file for reading, then it will hold ALL lines"
      ],
      "metadata": {
        "id": "Wv7NiLhkH7WD"
      }
    },
    {
      "cell_type": "code",
      "source": [
        "print(f.readlines())\n"
      ],
      "metadata": {
        "cell_id": "e82b8e5edcf1424593f4834d7ace11d2",
        "source_hash": "f7cec8af",
        "execution_start": 1680032414475,
        "execution_millis": 4,
        "deepnote_to_be_reexecuted": false,
        "deepnote_cell_type": "code",
        "id": "lh-yJ1xu7DPf"
      },
      "outputs": [],
      "execution_count": null
    },
    {
      "cell_type": "code",
      "source": [
        "f.close()"
      ],
      "metadata": {
        "id": "62YnVQXUJznI"
      },
      "execution_count": null,
      "outputs": []
    },
    {
      "cell_type": "code",
      "source": [
        "# trying with a different file:\n",
        "f = open('vogue_short.txt', 'r')\n",
        "f.readlines()"
      ],
      "metadata": {
        "cell_id": "5cf6d738b6c046219fcc78b494ed8166",
        "source_hash": "cd79c4d",
        "execution_start": 1680032494367,
        "execution_millis": 5,
        "deepnote_to_be_reexecuted": false,
        "deepnote_cell_type": "code",
        "id": "M49u4Uw77DPf"
      },
      "outputs": [],
      "execution_count": null
    },
    {
      "cell_type": "code",
      "source": [
        "f.close()"
      ],
      "metadata": {
        "cell_id": "6bb380c41c39457e90de1491d3781010",
        "source_hash": "73824b91",
        "execution_start": 1680032513314,
        "execution_millis": 5,
        "deepnote_to_be_reexecuted": false,
        "deepnote_cell_type": "code",
        "id": "XliivNX77DPf"
      },
      "outputs": [],
      "execution_count": null
    },
    {
      "cell_type": "markdown",
      "source": [
        "### read()\n",
        "will read and return a string of n characters\n",
        "or the entire files as as single string (if n is not provided)"
      ],
      "metadata": {
        "id": "pzTc4h9pJ8Yl"
      }
    },
    {
      "cell_type": "code",
      "source": [
        "# you can run this cell to import the file we are using:\n",
        "!wget https://raw.githubusercontent.com/Peziza/306/main/school_prompt2.txt"
      ],
      "metadata": {
        "id": "10bXUfD6KewP"
      },
      "execution_count": null,
      "outputs": []
    },
    {
      "cell_type": "code",
      "source": [
        "f = open('school_prompt2.txt', 'r')\n",
        "f.read(8)"
      ],
      "metadata": {
        "cell_id": "010087b99bfc41ffa0fc56104a36df65",
        "source_hash": "c819b7d4",
        "execution_start": 1680029607623,
        "execution_millis": 4,
        "deepnote_to_be_reexecuted": false,
        "deepnote_cell_type": "code",
        "id": "HGRPazZE7DPf"
      },
      "outputs": [],
      "execution_count": null
    },
    {
      "cell_type": "code",
      "source": [
        "f.read()"
      ],
      "metadata": {
        "id": "WUX0l35aKmny"
      },
      "execution_count": null,
      "outputs": []
    },
    {
      "cell_type": "markdown",
      "source": [
        "#**Methods - Object Specific Functions**\n",
        "A method is a special kind of function - one that belongs to a specific class of objects. Methods usually perform specific tasks involving that type of object. Though all methods are functions, not all functions are methods."
      ],
      "metadata": {
        "cell_id": "32d0c1aeff214f1cb4e8e56a83f17153",
        "deepnote_cell_type": "markdown",
        "id": "aO5qnlk57DPg"
      }
    },
    {
      "cell_type": "code",
      "source": [
        "t = \"All you need is your own imagination\\n\""
      ],
      "metadata": {
        "cell_id": "ba898ae6e11f47e38e9b7b11f5a69491",
        "source_hash": "e3cadc9a",
        "execution_start": 1680029724513,
        "execution_millis": 4,
        "deepnote_to_be_reexecuted": false,
        "deepnote_cell_type": "code",
        "id": "BR5J-u8o7DPg"
      },
      "outputs": [],
      "execution_count": null
    },
    {
      "cell_type": "code",
      "source": [
        "print(t)\n",
        "print(t)\n",
        "\n",
        "print(t.strip()) # removes newline and spaces\n",
        "print(t.strip())\n"
      ],
      "metadata": {
        "cell_id": "ca3a8e1141de43bd9545c484a85c15b6",
        "source_hash": "76a91525",
        "execution_start": 1680029804515,
        "execution_millis": 4,
        "deepnote_to_be_reexecuted": false,
        "deepnote_cell_type": "code",
        "id": "2JmmD2Og7DPg"
      },
      "outputs": [],
      "execution_count": null
    },
    {
      "cell_type": "code",
      "source": [
        "# examples of different methods for strings:\n",
        "# https://www.w3schools.com/python/python_ref_string.asp"
      ],
      "metadata": {
        "id": "Haim_lRGpsll"
      },
      "execution_count": null,
      "outputs": []
    },
    {
      "cell_type": "code",
      "source": [
        "t.upper()"
      ],
      "metadata": {
        "cell_id": "128e1a4b0c124e0b8e7efb37b44a6119",
        "source_hash": "c7be41d0",
        "execution_start": 1680029859379,
        "execution_millis": 4,
        "deepnote_to_be_reexecuted": false,
        "deepnote_cell_type": "code",
        "id": "Uj7ZeGR77DPg"
      },
      "outputs": [],
      "execution_count": null
    },
    {
      "cell_type": "code",
      "source": [
        "t.lower()"
      ],
      "metadata": {
        "cell_id": "0acddb0ea9d64458acdc9a139096571e",
        "source_hash": "33820882",
        "execution_start": 1680029872916,
        "execution_millis": 4,
        "deepnote_to_be_reexecuted": false,
        "deepnote_cell_type": "code",
        "id": "N96nt6X27DPg"
      },
      "outputs": [],
      "execution_count": null
    },
    {
      "cell_type": "code",
      "source": [
        "t.strip().lower() # can combine methods"
      ],
      "metadata": {
        "cell_id": "d621e73ab5d24fb6bc66db2cb8b0fd68",
        "source_hash": "2f6c87e2",
        "execution_start": 1680029889388,
        "execution_millis": 3,
        "deepnote_to_be_reexecuted": false,
        "deepnote_cell_type": "code",
        "id": "EGe_TmAC7DPg"
      },
      "outputs": [],
      "execution_count": null
    },
    {
      "cell_type": "code",
      "source": [
        "f = open('vogue.txt', 'r')\n",
        "\n",
        "i = 0\n",
        "for line in f:\n",
        "    print(line.strip()) # removes newlines\n",
        "    i += 1\n",
        "    if i > 3:\n",
        "        break\n",
        "\n",
        "f.close()\n"
      ],
      "metadata": {
        "cell_id": "3efd5a544d29475291c7f7e29c97e00c",
        "source_hash": "f5778f9e",
        "execution_start": 1680029958606,
        "execution_millis": 10,
        "deepnote_to_be_reexecuted": false,
        "deepnote_cell_type": "code",
        "id": "fELAp0Jp7DPg"
      },
      "outputs": [],
      "execution_count": null
    },
    {
      "cell_type": "code",
      "source": [
        "mystring = 'Your dreams will open the door (open up the door) \\n'\n",
        "\n",
        "print(mystring.split())\n"
      ],
      "metadata": {
        "cell_id": "d00593a779ed4a5687ba9a0d976ca2f6",
        "source_hash": "64791ef7",
        "execution_start": 1680031042555,
        "execution_millis": 9,
        "deepnote_to_be_reexecuted": false,
        "deepnote_cell_type": "code",
        "id": "Fb65qKfX7DPg"
      },
      "outputs": [],
      "execution_count": null
    },
    {
      "cell_type": "code",
      "source": [
        "mystring = 'Your dreams will open the door (open up the door) \\n'\n",
        "# STRING METHODS\n",
        "\n",
        "print(mystring)\n",
        "print(mystring.strip()) # removes newline\n",
        "print(mystring.strip().upper()) # removes newline and all upper case\n",
        "print(mystring.strip().lower()) # removes newline and all lower case\n",
        "print(mystring.split()) # split each word into a string (in a list) (split a string into a list where each word is an item in a list)\n"
      ],
      "metadata": {
        "cell_id": "e8aab7c2c71346d0be0516979f1eda3f",
        "source_hash": "9e5256a8",
        "execution_start": 1680031101671,
        "execution_millis": 10,
        "deepnote_to_be_reexecuted": false,
        "deepnote_cell_type": "code",
        "id": "JgjYi95Z7DPh"
      },
      "outputs": [],
      "execution_count": null
    },
    {
      "cell_type": "code",
      "source": [
        "# NOTE: Methods won't change the string...\n",
        "print(mystring)\n",
        "\n",
        "# If you want to change the string, you can assign to a variable\n",
        "\n",
        "newstring = mystring.upper()\n",
        "print(newstring)\n"
      ],
      "metadata": {
        "cell_id": "f6dd423742f749e3abd81de8d4fba0e4",
        "source_hash": "8ac146bc",
        "execution_start": 1680031608799,
        "execution_millis": 4,
        "deepnote_to_be_reexecuted": false,
        "deepnote_cell_type": "code",
        "id": "mRprFOsu7DPh"
      },
      "outputs": [],
      "execution_count": null
    },
    {
      "cell_type": "markdown",
      "source": [
        "#### Challenge\n",
        "Write code to count the most common words from Beyonce's songs!\n",
        "(First, identify 5 words)"
      ],
      "metadata": {
        "cell_id": "91ba01aed6124bf1886feccd8c427b5b",
        "deepnote_cell_type": "markdown",
        "id": "gklpZ2cf7DPh"
      }
    },
    {
      "cell_type": "code",
      "source": [
        "# hint: you'll want to use the .split() method\n",
        "# you can use other words!\n",
        "# this won't be perfect, but one way\n",
        "\n",
        "# i\n",
        "# ladies\n",
        "# hey\n",
        "# you\n",
        "# love\n",
        "\n",
        "i_counter = 0\n",
        "ladies_counter = 0\n",
        "hey_counter = 0\n",
        "you_counter = 0\n",
        "love_counter = 0\n",
        "\n",
        "# open file\n",
        "# for loop (possibly more than one for loop)\n",
        "    # if statements\n",
        "\n",
        "# print counters"
      ],
      "metadata": {
        "cell_id": "8993791229304d46ac6a4f4511589ce9",
        "deepnote_cell_type": "code",
        "id": "1yoHWhSs7DPh"
      },
      "outputs": [],
      "execution_count": null
    },
    {
      "cell_type": "code",
      "source": [],
      "metadata": {
        "cell_id": "d4622dadbd534e679cbb980531f95f05",
        "deepnote_cell_type": "code",
        "id": "hlYvHBvB7DPh"
      },
      "outputs": [],
      "execution_count": null
    },
    {
      "cell_type": "code",
      "source": [],
      "metadata": {
        "id": "0weytHpyWUlp"
      },
      "execution_count": null,
      "outputs": []
    },
    {
      "cell_type": "code",
      "source": [],
      "metadata": {
        "id": "LlRsKRL5WUiB"
      },
      "execution_count": null,
      "outputs": []
    },
    {
      "cell_type": "markdown",
      "source": [
        "<a style='text-decoration:none;line-height:16px;display:flex;color:#5B5B62;padding:10px;justify-content:end;' href='https://deepnote.com?utm_source=created-in-deepnote-cell&projectId=7c9603dd-0fe5-44df-b0d7-f027c2d959f8' target=\"_blank\">\n",
        "<img alt='Created in deepnote.com' style='display:inline;max-height:16px;margin:0px;margin-right:7.5px;' src='data:image/svg+xml;base64,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' > </img>\n",
        "Created in <span style='font-weight:600;margin-left:4px;'>Deepnote</span></a>"
      ],
      "metadata": {
        "created_in_deepnote_cell": true,
        "deepnote_cell_type": "markdown",
        "id": "yZzONrKz7DPh"
      }
    }
  ],
  "nbformat": 4,
  "nbformat_minor": 0,
  "metadata": {
    "deepnote": {},
    "orig_nbformat": 2,
    "deepnote_notebook_id": "e0e5c1da77d547df988e505621603a36",
    "deepnote_persisted_session": {
      "createdAt": "2023-04-03T19:01:41.800Z"
    },
    "deepnote_execution_queue": [],
    "colab": {
      "provenance": [],
      "include_colab_link": true
    },
    "language_info": {
      "name": "python"
    },
    "kernelspec": {
      "name": "python3",
      "display_name": "Python 3"
    },
    "gpuClass": "standard"
  }
}